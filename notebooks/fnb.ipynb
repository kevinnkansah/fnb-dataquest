{
 "cells": [
  {
   "cell_type": "code",
   "execution_count": null,
   "id": "Hbol",
   "metadata": {
    "id": "Hbol"
   },
   "outputs": [
    {
     "name": "stderr",
     "output_type": "stream",
     "text": [
      "2025-05-27 20:37:25.820351: I external/local_xla/xla/tsl/cuda/cudart_stub.cc:32] Could not find cuda drivers on your machine, GPU will not be used.\n",
      "2025-05-27 20:37:25.823181: I external/local_xla/xla/tsl/cuda/cudart_stub.cc:32] Could not find cuda drivers on your machine, GPU will not be used.\n",
      "2025-05-27 20:37:25.831044: E external/local_xla/xla/stream_executor/cuda/cuda_fft.cc:477] Unable to register cuFFT factory: Attempting to register factory for plugin cuFFT when one has already been registered\n",
      "WARNING: All log messages before absl::InitializeLog() is called are written to STDERR\n",
      "E0000 00:00:1748371045.844503   79467 cuda_dnn.cc:8310] Unable to register cuDNN factory: Attempting to register factory for plugin cuDNN when one has already been registered\n",
      "E0000 00:00:1748371045.848313   79467 cuda_blas.cc:1418] Unable to register cuBLAS factory: Attempting to register factory for plugin cuBLAS when one has already been registered\n",
      "2025-05-27 20:37:25.862880: I tensorflow/core/platform/cpu_feature_guard.cc:210] This TensorFlow binary is optimized to use available CPU instructions in performance-critical operations.\n",
      "To enable the following instructions: AVX2 FMA, in other operations, rebuild TensorFlow with the appropriate compiler flags.\n"
     ]
    }
   ],
   "source": [
    "from keras.layers import  TextVectorization\n",
    "from keras.losses import SparseCategoricalCrossentropy\n",
    "from keras.optimizers import Adam\n",
    "from keras.callbacks import EarlyStopping\n",
    "from keras.utils import FeatureSpace\n",
    "from keras.ops import transpose\n",
    "from keras_rs.layers import BruteForceRetrieval\n",
    "from keras_rs.metrics import MeanReciprocalRank, MeanAveragePrecision, NDCG\n",
    "from keras_rs.losses import PairwiseHingeLoss\n",
    "\n",
    "import collections\n",
    "from pprint import pprint\n",
    "import tensorflow as tf\n",
    "import pandas as pd\n",
    "import matplotlib.pyplot as plt\n",
    "import numpy as np\n",
    "import os\n",
    "\n",
    "os.environ[\"KERAS_BACKEND\"] = \"jax\"  # `\"tensorflow\"`/`\"torch\"`"
   ]
  },
  {
   "cell_type": "code",
   "execution_count": 2,
   "id": "bb174308",
   "metadata": {
    "id": "bb174308"
   },
   "outputs": [],
   "source": [
    "df = pd.read_csv(\"../data/dq_recsys_challenge_2025(in).csv\")"
   ]
  },
  {
   "cell_type": "code",
   "execution_count": 3,
   "id": "b05a55a5",
   "metadata": {
    "id": "b05a55a5"
   },
   "outputs": [],
   "source": [
    "df['int_date'] = pd.to_datetime(df['int_date'], format='%d-%b-%y')"
   ]
  },
  {
   "cell_type": "code",
   "execution_count": 4,
   "id": "8cd8e6d0",
   "metadata": {
    "colab": {
     "base_uri": "https://localhost:8080/"
    },
    "id": "8cd8e6d0",
    "outputId": "d05ac426-a745-46a8-fd72-bc49c5e13ad4"
   },
   "outputs": [
    {
     "name": "stdout",
     "output_type": "stream",
     "text": [
      "idcol 0\n",
      "interaction 0\n",
      "int_date 0\n",
      "item 0\n",
      "page 0\n",
      "tod 0\n",
      "item_type 0\n",
      "item_descrip 173638\n",
      "segment 0\n",
      "beh_segment 0\n",
      "active_ind 0\n"
     ]
    }
   ],
   "source": [
    "for i in df.columns:\n",
    "    print(i, df[i].isna().sum())\n",
    "\n",
    "df['int_date'] = pd.to_datetime(df['int_date'], format='%d-%b-%y', errors='coerce')"
   ]
  },
  {
   "cell_type": "code",
   "execution_count": 5,
   "id": "2a9b1e68",
   "metadata": {
    "id": "2a9b1e68"
   },
   "outputs": [],
   "source": [
    "df.sort_values(by=[\"int_date\", \"idcol\"], inplace=True)"
   ]
  },
  {
   "cell_type": "code",
   "execution_count": 6,
   "id": "004affbd",
   "metadata": {
    "id": "004affbd"
   },
   "outputs": [],
   "source": [
    "df['id'] = df['idcol']\n",
    "df['day'] = df['int_date'].dt.day.astype(float)\n",
    "df['day_of_week'] = df['int_date'].dt.dayofweek.astype(float)\n",
    "df['month'] = df['int_date'].dt.month.astype(float)\n",
    "df.dropna(subset=['item_descrip'], inplace=True)\n",
    "df = df[df['interaction'].isin(['CLICK', 'CHECKOUT'])]\n",
    "df.reset_index(drop=True, inplace=True)\n",
    "\n",
    "df['active_ind'] = df['active_ind'].astype('category').cat.codes\n",
    "df['segment'] = df['segment'].astype('category').cat.codes\n",
    "df['beh_segment'] = df['beh_segment'].astype('category').cat.codes\n",
    "df['tod'] = df['tod'].astype('category').cat.codes\n",
    "df['interaction'] = df['interaction'].astype('category').cat.codes\n",
    "df['page'] = df['page'].astype('category').cat.codes\n",
    "df['item_type'] = df['item_type'].astype('category').cat.codes\n"
   ]
  },
  {
   "cell_type": "code",
   "execution_count": 7,
   "id": "98ba53e8",
   "metadata": {
    "colab": {
     "base_uri": "https://localhost:8080/",
     "height": 652
    },
    "id": "98ba53e8",
    "outputId": "75771938-9bdf-495c-cd69-d187b5500415"
   },
   "outputs": [
    {
     "data": {
      "application/vnd.microsoft.datawrangler.viewer.v0+json": {
       "columns": [
        {
         "name": "index",
         "rawType": "int64",
         "type": "integer"
        },
        {
         "name": "idcol",
         "rawType": "int64",
         "type": "integer"
        },
        {
         "name": "interaction",
         "rawType": "int8",
         "type": "integer"
        },
        {
         "name": "int_date",
         "rawType": "datetime64[ns]",
         "type": "datetime"
        },
        {
         "name": "item",
         "rawType": "object",
         "type": "string"
        },
        {
         "name": "page",
         "rawType": "int8",
         "type": "integer"
        },
        {
         "name": "tod",
         "rawType": "int8",
         "type": "integer"
        },
        {
         "name": "item_type",
         "rawType": "int8",
         "type": "integer"
        },
        {
         "name": "item_descrip",
         "rawType": "object",
         "type": "string"
        },
        {
         "name": "segment",
         "rawType": "int8",
         "type": "integer"
        },
        {
         "name": "beh_segment",
         "rawType": "int8",
         "type": "integer"
        },
        {
         "name": "active_ind",
         "rawType": "int8",
         "type": "integer"
        },
        {
         "name": "id",
         "rawType": "int64",
         "type": "integer"
        },
        {
         "name": "day",
         "rawType": "float64",
         "type": "float"
        },
        {
         "name": "day_of_week",
         "rawType": "float64",
         "type": "float"
        },
        {
         "name": "month",
         "rawType": "float64",
         "type": "float"
        }
       ],
       "ref": "5e940b97-95f0-453e-b794-bd2681cc65dc",
       "rows": [
        [
         "0",
         "73205",
         "1",
         "2023-01-01 00:00:00",
         "EBEM",
         "1",
         "0",
         "4",
         "EBUCKS  EARN MORE",
         "0",
         "0",
         "0",
         "73205",
         "1.0",
         "6.0",
         "1.0"
        ],
        [
         "1",
         "73205",
         "0",
         "2023-01-01 00:00:00",
         "EBEM",
         "1",
         "0",
         "4",
         "EBUCKS  EARN MORE",
         "0",
         "0",
         "0",
         "73205",
         "1.0",
         "6.0",
         "1.0"
        ],
        [
         "2",
         "166578",
         "1",
         "2023-01-01 00:00:00",
         "IBGC",
         "0",
         "0",
         "1",
         "FNB GAP COVER",
         "3",
         "0",
         "2",
         "166578",
         "1.0",
         "6.0",
         "1.0"
        ],
        [
         "3",
         "166578",
         "0",
         "2023-01-01 00:00:00",
         "IBGC",
         "0",
         "0",
         "1",
         "FNB GAP COVER",
         "3",
         "0",
         "2",
         "166578",
         "1.0",
         "6.0",
         "1.0"
        ],
        [
         "4",
         "258838",
         "1",
         "2023-01-01 00:00:00",
         "CARE",
         "0",
         "3",
         "3",
         "RF LIMIT INCREASE",
         "2",
         "0",
         "0",
         "258838",
         "1.0",
         "6.0",
         "1.0"
        ],
        [
         "5",
         "258838",
         "1",
         "2023-01-01 00:00:00",
         "CARE",
         "0",
         "3",
         "3",
         "RF LIMIT INCREASE",
         "2",
         "0",
         "0",
         "258838",
         "1.0",
         "6.0",
         "1.0"
        ],
        [
         "6",
         "258838",
         "0",
         "2023-01-01 00:00:00",
         "CARE",
         "0",
         "3",
         "3",
         "RF LIMIT INCREASE",
         "2",
         "0",
         "0",
         "258838",
         "1.0",
         "6.0",
         "1.0"
        ],
        [
         "7",
         "334354",
         "1",
         "2023-01-01 00:00:00",
         "EBWP",
         "0",
         "3",
         "4",
         "EBUCKS WIMPY",
         "3",
         "17",
         "0",
         "334354",
         "1.0",
         "6.0",
         "1.0"
        ],
        [
         "8",
         "334354",
         "0",
         "2023-01-01 00:00:00",
         "EBWP",
         "0",
         "3",
         "4",
         "EBUCKS WIMPY",
         "3",
         "17",
         "0",
         "334354",
         "1.0",
         "6.0",
         "1.0"
        ],
        [
         "9",
         "425774",
         "0",
         "2023-01-01 00:00:00",
         "CTLN",
         "1",
         "2",
         "3",
         "DDA TEMP LOANS BATCH",
         "1",
         "17",
         "2",
         "425774",
         "1.0",
         "6.0",
         "1.0"
        ],
        [
         "10",
         "425774",
         "0",
         "2023-01-01 00:00:00",
         "CTLN",
         "0",
         "2",
         "3",
         "DDA TEMP LOANS BATCH",
         "1",
         "17",
         "2",
         "425774",
         "1.0",
         "6.0",
         "1.0"
        ],
        [
         "11",
         "425774",
         "0",
         "2023-01-01 00:00:00",
         "CTLN",
         "0",
         "2",
         "3",
         "DDA TEMP LOANS BATCH",
         "1",
         "17",
         "2",
         "425774",
         "1.0",
         "6.0",
         "1.0"
        ],
        [
         "12",
         "425774",
         "0",
         "2023-01-01 00:00:00",
         "CTLN",
         "1",
         "2",
         "3",
         "DDA TEMP LOANS BATCH",
         "1",
         "17",
         "2",
         "425774",
         "1.0",
         "6.0",
         "1.0"
        ],
        [
         "13",
         "425774",
         "1",
         "2023-01-01 00:00:00",
         "CTLN",
         "0",
         "2",
         "3",
         "DDA TEMP LOANS BATCH",
         "1",
         "17",
         "2",
         "425774",
         "1.0",
         "6.0",
         "1.0"
        ],
        [
         "14",
         "425774",
         "1",
         "2023-01-01 00:00:00",
         "CTLN",
         "1",
         "2",
         "3",
         "DDA TEMP LOANS BATCH",
         "1",
         "17",
         "2",
         "425774",
         "1.0",
         "6.0",
         "1.0"
        ],
        [
         "15",
         "425774",
         "1",
         "2023-01-01 00:00:00",
         "CTLN",
         "1",
         "2",
         "3",
         "DDA TEMP LOANS BATCH",
         "1",
         "17",
         "2",
         "425774",
         "1.0",
         "6.0",
         "1.0"
        ],
        [
         "16",
         "425774",
         "1",
         "2023-01-01 00:00:00",
         "CTLN",
         "1",
         "2",
         "3",
         "DDA TEMP LOANS BATCH",
         "1",
         "17",
         "2",
         "425774",
         "1.0",
         "6.0",
         "1.0"
        ],
        [
         "17",
         "425774",
         "0",
         "2023-01-01 00:00:00",
         "CTLN",
         "1",
         "2",
         "3",
         "DDA TEMP LOANS BATCH",
         "1",
         "17",
         "2",
         "425774",
         "1.0",
         "6.0",
         "1.0"
        ],
        [
         "18",
         "425774",
         "1",
         "2023-01-01 00:00:00",
         "CTLN",
         "0",
         "2",
         "3",
         "DDA TEMP LOANS BATCH",
         "1",
         "17",
         "2",
         "425774",
         "1.0",
         "6.0",
         "1.0"
        ],
        [
         "19",
         "425774",
         "1",
         "2023-01-01 00:00:00",
         "CTLN",
         "0",
         "2",
         "3",
         "DDA TEMP LOANS BATCH",
         "1",
         "17",
         "2",
         "425774",
         "1.0",
         "6.0",
         "1.0"
        ],
        [
         "20",
         "452486",
         "0",
         "2023-01-01 00:00:00",
         "CTLN",
         "0",
         "3",
         "3",
         "DDA TEMP LOANS BATCH",
         "1",
         "7",
         "2",
         "452486",
         "1.0",
         "6.0",
         "1.0"
        ],
        [
         "21",
         "452486",
         "1",
         "2023-01-01 00:00:00",
         "CTLN",
         "0",
         "3",
         "3",
         "DDA TEMP LOANS BATCH",
         "1",
         "7",
         "2",
         "452486",
         "1.0",
         "6.0",
         "1.0"
        ],
        [
         "22",
         "508108",
         "1",
         "2023-01-01 00:00:00",
         "CBPA",
         "0",
         "2",
         "0",
         "PREPAID AIRTIME - OFFER",
         "0",
         "11",
         "2",
         "508108",
         "1.0",
         "6.0",
         "1.0"
        ],
        [
         "23",
         "571787",
         "0",
         "2023-01-01 00:00:00",
         "CBLT",
         "0",
         "0",
         "0",
         "LOTTO - OFFER",
         "1",
         "0",
         "0",
         "571787",
         "1.0",
         "6.0",
         "1.0"
        ],
        [
         "24",
         "571787",
         "1",
         "2023-01-01 00:00:00",
         "CBLT",
         "0",
         "0",
         "0",
         "LOTTO - OFFER",
         "1",
         "0",
         "0",
         "571787",
         "1.0",
         "6.0",
         "1.0"
        ],
        [
         "25",
         "571787",
         "1",
         "2023-01-01 00:00:00",
         "CBLT",
         "0",
         "0",
         "0",
         "LOTTO - OFFER",
         "1",
         "0",
         "0",
         "571787",
         "1.0",
         "6.0",
         "1.0"
        ],
        [
         "26",
         "579662",
         "1",
         "2023-01-01 00:00:00",
         "EBKA",
         "0",
         "3",
         "4",
         "EBUCKS KAUAI",
         "2",
         "0",
         "0",
         "579662",
         "1.0",
         "6.0",
         "1.0"
        ],
        [
         "27",
         "598723",
         "0",
         "2023-01-01 00:00:00",
         "NAFW",
         "1",
         "0",
         "1",
         "FIRST WARANTY",
         "3",
         "0",
         "0",
         "598723",
         "1.0",
         "6.0",
         "1.0"
        ],
        [
         "28",
         "795416",
         "0",
         "2023-01-01 00:00:00",
         "XCFL",
         "0",
         "2",
         "4",
         "DELIGHT FUEL OFFER",
         "2",
         "7",
         "0",
         "795416",
         "1.0",
         "6.0",
         "1.0"
        ],
        [
         "29",
         "795416",
         "1",
         "2023-01-01 00:00:00",
         "XCFL",
         "0",
         "2",
         "4",
         "DELIGHT FUEL OFFER",
         "2",
         "7",
         "0",
         "795416",
         "1.0",
         "6.0",
         "1.0"
        ],
        [
         "30",
         "899373",
         "1",
         "2023-01-01 00:00:00",
         "CTLN",
         "0",
         "1",
         "3",
         "DDA TEMP LOANS BATCH",
         "2",
         "0",
         "0",
         "899373",
         "1.0",
         "6.0",
         "1.0"
        ],
        [
         "31",
         "993495",
         "0",
         "2023-01-01 00:00:00",
         "NATR",
         "0",
         "3",
         "1",
         "TYRE AND RIM",
         "2",
         "0",
         "2",
         "993495",
         "1.0",
         "6.0",
         "1.0"
        ],
        [
         "32",
         "993495",
         "1",
         "2023-01-01 00:00:00",
         "NATR",
         "0",
         "3",
         "1",
         "TYRE AND RIM",
         "2",
         "0",
         "2",
         "993495",
         "1.0",
         "6.0",
         "1.0"
        ],
        [
         "33",
         "1082689",
         "0",
         "2023-01-01 00:00:00",
         "CTLN",
         "0",
         "2",
         "3",
         "DDA TEMP LOANS BATCH",
         "2",
         "0",
         "0",
         "1082689",
         "1.0",
         "6.0",
         "1.0"
        ],
        [
         "34",
         "1082689",
         "0",
         "2023-01-01 00:00:00",
         "CTLN",
         "0",
         "2",
         "3",
         "DDA TEMP LOANS BATCH",
         "2",
         "0",
         "0",
         "1082689",
         "1.0",
         "6.0",
         "1.0"
        ],
        [
         "35",
         "1082689",
         "1",
         "2023-01-01 00:00:00",
         "CTLN",
         "0",
         "2",
         "3",
         "DDA TEMP LOANS BATCH",
         "2",
         "0",
         "0",
         "1082689",
         "1.0",
         "6.0",
         "1.0"
        ],
        [
         "36",
         "1082689",
         "1",
         "2023-01-01 00:00:00",
         "CTLN",
         "0",
         "2",
         "3",
         "DDA TEMP LOANS BATCH",
         "2",
         "0",
         "0",
         "1082689",
         "1.0",
         "6.0",
         "1.0"
        ],
        [
         "37",
         "1082689",
         "1",
         "2023-01-01 00:00:00",
         "CTLN",
         "0",
         "2",
         "3",
         "DDA TEMP LOANS BATCH",
         "2",
         "0",
         "0",
         "1082689",
         "1.0",
         "6.0",
         "1.0"
        ],
        [
         "38",
         "1082689",
         "1",
         "2023-01-01 00:00:00",
         "CTLN",
         "0",
         "2",
         "3",
         "DDA TEMP LOANS BATCH",
         "2",
         "0",
         "0",
         "1082689",
         "1.0",
         "6.0",
         "1.0"
        ],
        [
         "39",
         "1548420",
         "0",
         "2023-01-01 00:00:00",
         "CARE",
         "1",
         "0",
         "3",
         "RF LIMIT INCREASE",
         "2",
         "7",
         "0",
         "1548420",
         "1.0",
         "6.0",
         "1.0"
        ],
        [
         "40",
         "1556232",
         "0",
         "2023-01-01 00:00:00",
         "CCCS",
         "0",
         "0",
         "5",
         "ZFN CARD SWOP",
         "2",
         "17",
         "0",
         "1556232",
         "1.0",
         "6.0",
         "1.0"
        ],
        [
         "41",
         "1799580",
         "1",
         "2023-01-01 00:00:00",
         "FIHC",
         "0",
         "0",
         "1",
         "HEALTH CASH PLAN",
         "0",
         "9",
         "0",
         "1799580",
         "1.0",
         "6.0",
         "1.0"
        ],
        [
         "42",
         "1961567",
         "1",
         "2023-01-01 00:00:00",
         "CASD",
         "1",
         "2",
         "0",
         "SMART DEVICE OFFER",
         "2",
         "0",
         "0",
         "1961567",
         "1.0",
         "6.0",
         "1.0"
        ],
        [
         "43",
         "1961567",
         "1",
         "2023-01-01 00:00:00",
         "CASD",
         "1",
         "2",
         "0",
         "SMART DEVICE OFFER",
         "2",
         "0",
         "0",
         "1961567",
         "1.0",
         "6.0",
         "1.0"
        ],
        [
         "44",
         "1961567",
         "0",
         "2023-01-01 00:00:00",
         "CASD",
         "1",
         "2",
         "0",
         "SMART DEVICE OFFER",
         "2",
         "0",
         "0",
         "1961567",
         "1.0",
         "6.0",
         "1.0"
        ],
        [
         "45",
         "1999115",
         "1",
         "2023-01-01 00:00:00",
         "IBAM",
         "0",
         "3",
         "1",
         "COVER YOUR WHOLE FAMILY",
         "1",
         "7",
         "0",
         "1999115",
         "1.0",
         "6.0",
         "1.0"
        ],
        [
         "46",
         "1999115",
         "0",
         "2023-01-01 00:00:00",
         "IBAM",
         "0",
         "3",
         "1",
         "COVER YOUR WHOLE FAMILY",
         "1",
         "7",
         "0",
         "1999115",
         "1.0",
         "6.0",
         "1.0"
        ],
        [
         "47",
         "2359405",
         "1",
         "2023-01-01 00:00:00",
         "MMSM",
         "0",
         "3",
         "4",
         "MONEY MANAGEMENT_SENDMONE",
         "0",
         "0",
         "0",
         "2359405",
         "1.0",
         "6.0",
         "1.0"
        ],
        [
         "48",
         "2477761",
         "1",
         "2023-01-01 00:00:00",
         "IBDP",
         "0",
         "2",
         "1",
         "DEBT PROTECTION PLAN",
         "0",
         "17",
         "0",
         "2477761",
         "1.0",
         "6.0",
         "1.0"
        ],
        [
         "49",
         "2477761",
         "0",
         "2023-01-01 00:00:00",
         "IBDP",
         "0",
         "2",
         "1",
         "DEBT PROTECTION PLAN",
         "0",
         "17",
         "0",
         "2477761",
         "1.0",
         "6.0",
         "1.0"
        ]
       ],
       "shape": {
        "columns": 15,
        "rows": 226362
       }
      },
      "text/html": [
       "<div>\n",
       "<style scoped>\n",
       "    .dataframe tbody tr th:only-of-type {\n",
       "        vertical-align: middle;\n",
       "    }\n",
       "\n",
       "    .dataframe tbody tr th {\n",
       "        vertical-align: top;\n",
       "    }\n",
       "\n",
       "    .dataframe thead th {\n",
       "        text-align: right;\n",
       "    }\n",
       "</style>\n",
       "<table border=\"1\" class=\"dataframe\">\n",
       "  <thead>\n",
       "    <tr style=\"text-align: right;\">\n",
       "      <th></th>\n",
       "      <th>idcol</th>\n",
       "      <th>interaction</th>\n",
       "      <th>int_date</th>\n",
       "      <th>item</th>\n",
       "      <th>page</th>\n",
       "      <th>tod</th>\n",
       "      <th>item_type</th>\n",
       "      <th>item_descrip</th>\n",
       "      <th>segment</th>\n",
       "      <th>beh_segment</th>\n",
       "      <th>active_ind</th>\n",
       "      <th>id</th>\n",
       "      <th>day</th>\n",
       "      <th>day_of_week</th>\n",
       "      <th>month</th>\n",
       "    </tr>\n",
       "  </thead>\n",
       "  <tbody>\n",
       "    <tr>\n",
       "      <th>0</th>\n",
       "      <td>73205</td>\n",
       "      <td>1</td>\n",
       "      <td>2023-01-01</td>\n",
       "      <td>EBEM</td>\n",
       "      <td>1</td>\n",
       "      <td>0</td>\n",
       "      <td>4</td>\n",
       "      <td>EBUCKS  EARN MORE</td>\n",
       "      <td>0</td>\n",
       "      <td>0</td>\n",
       "      <td>0</td>\n",
       "      <td>73205</td>\n",
       "      <td>1.0</td>\n",
       "      <td>6.0</td>\n",
       "      <td>1.0</td>\n",
       "    </tr>\n",
       "    <tr>\n",
       "      <th>1</th>\n",
       "      <td>73205</td>\n",
       "      <td>0</td>\n",
       "      <td>2023-01-01</td>\n",
       "      <td>EBEM</td>\n",
       "      <td>1</td>\n",
       "      <td>0</td>\n",
       "      <td>4</td>\n",
       "      <td>EBUCKS  EARN MORE</td>\n",
       "      <td>0</td>\n",
       "      <td>0</td>\n",
       "      <td>0</td>\n",
       "      <td>73205</td>\n",
       "      <td>1.0</td>\n",
       "      <td>6.0</td>\n",
       "      <td>1.0</td>\n",
       "    </tr>\n",
       "    <tr>\n",
       "      <th>2</th>\n",
       "      <td>166578</td>\n",
       "      <td>1</td>\n",
       "      <td>2023-01-01</td>\n",
       "      <td>IBGC</td>\n",
       "      <td>0</td>\n",
       "      <td>0</td>\n",
       "      <td>1</td>\n",
       "      <td>FNB GAP COVER</td>\n",
       "      <td>3</td>\n",
       "      <td>0</td>\n",
       "      <td>2</td>\n",
       "      <td>166578</td>\n",
       "      <td>1.0</td>\n",
       "      <td>6.0</td>\n",
       "      <td>1.0</td>\n",
       "    </tr>\n",
       "    <tr>\n",
       "      <th>3</th>\n",
       "      <td>166578</td>\n",
       "      <td>0</td>\n",
       "      <td>2023-01-01</td>\n",
       "      <td>IBGC</td>\n",
       "      <td>0</td>\n",
       "      <td>0</td>\n",
       "      <td>1</td>\n",
       "      <td>FNB GAP COVER</td>\n",
       "      <td>3</td>\n",
       "      <td>0</td>\n",
       "      <td>2</td>\n",
       "      <td>166578</td>\n",
       "      <td>1.0</td>\n",
       "      <td>6.0</td>\n",
       "      <td>1.0</td>\n",
       "    </tr>\n",
       "    <tr>\n",
       "      <th>4</th>\n",
       "      <td>258838</td>\n",
       "      <td>1</td>\n",
       "      <td>2023-01-01</td>\n",
       "      <td>CARE</td>\n",
       "      <td>0</td>\n",
       "      <td>3</td>\n",
       "      <td>3</td>\n",
       "      <td>RF LIMIT INCREASE</td>\n",
       "      <td>2</td>\n",
       "      <td>0</td>\n",
       "      <td>0</td>\n",
       "      <td>258838</td>\n",
       "      <td>1.0</td>\n",
       "      <td>6.0</td>\n",
       "      <td>1.0</td>\n",
       "    </tr>\n",
       "    <tr>\n",
       "      <th>...</th>\n",
       "      <td>...</td>\n",
       "      <td>...</td>\n",
       "      <td>...</td>\n",
       "      <td>...</td>\n",
       "      <td>...</td>\n",
       "      <td>...</td>\n",
       "      <td>...</td>\n",
       "      <td>...</td>\n",
       "      <td>...</td>\n",
       "      <td>...</td>\n",
       "      <td>...</td>\n",
       "      <td>...</td>\n",
       "      <td>...</td>\n",
       "      <td>...</td>\n",
       "      <td>...</td>\n",
       "    </tr>\n",
       "    <tr>\n",
       "      <th>226357</th>\n",
       "      <td>25395174118</td>\n",
       "      <td>1</td>\n",
       "      <td>2023-03-31</td>\n",
       "      <td>CBPA</td>\n",
       "      <td>0</td>\n",
       "      <td>3</td>\n",
       "      <td>0</td>\n",
       "      <td>PREPAID AIRTIME - OFFER</td>\n",
       "      <td>0</td>\n",
       "      <td>1</td>\n",
       "      <td>0</td>\n",
       "      <td>25395174118</td>\n",
       "      <td>31.0</td>\n",
       "      <td>4.0</td>\n",
       "      <td>3.0</td>\n",
       "    </tr>\n",
       "    <tr>\n",
       "      <th>226358</th>\n",
       "      <td>25427267018</td>\n",
       "      <td>1</td>\n",
       "      <td>2023-03-31</td>\n",
       "      <td>CBPA</td>\n",
       "      <td>0</td>\n",
       "      <td>1</td>\n",
       "      <td>0</td>\n",
       "      <td>PREPAID AIRTIME - OFFER</td>\n",
       "      <td>0</td>\n",
       "      <td>0</td>\n",
       "      <td>2</td>\n",
       "      <td>25427267018</td>\n",
       "      <td>31.0</td>\n",
       "      <td>4.0</td>\n",
       "      <td>3.0</td>\n",
       "    </tr>\n",
       "    <tr>\n",
       "      <th>226359</th>\n",
       "      <td>25585786218</td>\n",
       "      <td>1</td>\n",
       "      <td>2023-03-31</td>\n",
       "      <td>CUHS</td>\n",
       "      <td>0</td>\n",
       "      <td>3</td>\n",
       "      <td>2</td>\n",
       "      <td>HORIZON SERIES</td>\n",
       "      <td>1</td>\n",
       "      <td>18</td>\n",
       "      <td>2</td>\n",
       "      <td>25585786218</td>\n",
       "      <td>31.0</td>\n",
       "      <td>4.0</td>\n",
       "      <td>3.0</td>\n",
       "    </tr>\n",
       "    <tr>\n",
       "      <th>226360</th>\n",
       "      <td>25603480118</td>\n",
       "      <td>1</td>\n",
       "      <td>2023-03-31</td>\n",
       "      <td>CTLN</td>\n",
       "      <td>0</td>\n",
       "      <td>0</td>\n",
       "      <td>3</td>\n",
       "      <td>DDA TEMP LOANS BATCH</td>\n",
       "      <td>0</td>\n",
       "      <td>42</td>\n",
       "      <td>2</td>\n",
       "      <td>25603480118</td>\n",
       "      <td>31.0</td>\n",
       "      <td>4.0</td>\n",
       "      <td>3.0</td>\n",
       "    </tr>\n",
       "    <tr>\n",
       "      <th>226361</th>\n",
       "      <td>25603480118</td>\n",
       "      <td>0</td>\n",
       "      <td>2023-03-31</td>\n",
       "      <td>CTLN</td>\n",
       "      <td>0</td>\n",
       "      <td>0</td>\n",
       "      <td>3</td>\n",
       "      <td>DDA TEMP LOANS BATCH</td>\n",
       "      <td>0</td>\n",
       "      <td>42</td>\n",
       "      <td>2</td>\n",
       "      <td>25603480118</td>\n",
       "      <td>31.0</td>\n",
       "      <td>4.0</td>\n",
       "      <td>3.0</td>\n",
       "    </tr>\n",
       "  </tbody>\n",
       "</table>\n",
       "<p>226362 rows × 15 columns</p>\n",
       "</div>"
      ],
      "text/plain": [
       "              idcol  interaction   int_date  item  page  tod  item_type  \\\n",
       "0             73205            1 2023-01-01  EBEM     1    0          4   \n",
       "1             73205            0 2023-01-01  EBEM     1    0          4   \n",
       "2            166578            1 2023-01-01  IBGC     0    0          1   \n",
       "3            166578            0 2023-01-01  IBGC     0    0          1   \n",
       "4            258838            1 2023-01-01  CARE     0    3          3   \n",
       "...             ...          ...        ...   ...   ...  ...        ...   \n",
       "226357  25395174118            1 2023-03-31  CBPA     0    3          0   \n",
       "226358  25427267018            1 2023-03-31  CBPA     0    1          0   \n",
       "226359  25585786218            1 2023-03-31  CUHS     0    3          2   \n",
       "226360  25603480118            1 2023-03-31  CTLN     0    0          3   \n",
       "226361  25603480118            0 2023-03-31  CTLN     0    0          3   \n",
       "\n",
       "                   item_descrip  segment  beh_segment  active_ind  \\\n",
       "0             EBUCKS  EARN MORE        0            0           0   \n",
       "1             EBUCKS  EARN MORE        0            0           0   \n",
       "2                 FNB GAP COVER        3            0           2   \n",
       "3                 FNB GAP COVER        3            0           2   \n",
       "4             RF LIMIT INCREASE        2            0           0   \n",
       "...                         ...      ...          ...         ...   \n",
       "226357  PREPAID AIRTIME - OFFER        0            1           0   \n",
       "226358  PREPAID AIRTIME - OFFER        0            0           2   \n",
       "226359           HORIZON SERIES        1           18           2   \n",
       "226360     DDA TEMP LOANS BATCH        0           42           2   \n",
       "226361     DDA TEMP LOANS BATCH        0           42           2   \n",
       "\n",
       "                 id   day  day_of_week  month  \n",
       "0             73205   1.0          6.0    1.0  \n",
       "1             73205   1.0          6.0    1.0  \n",
       "2            166578   1.0          6.0    1.0  \n",
       "3            166578   1.0          6.0    1.0  \n",
       "4            258838   1.0          6.0    1.0  \n",
       "...             ...   ...          ...    ...  \n",
       "226357  25395174118  31.0          4.0    3.0  \n",
       "226358  25427267018  31.0          4.0    3.0  \n",
       "226359  25585786218  31.0          4.0    3.0  \n",
       "226360  25603480118  31.0          4.0    3.0  \n",
       "226361  25603480118  31.0          4.0    3.0  \n",
       "\n",
       "[226362 rows x 15 columns]"
      ]
     },
     "execution_count": 7,
     "metadata": {},
     "output_type": "execute_result"
    }
   ],
   "source": [
    "df"
   ]
  },
  {
   "cell_type": "code",
   "execution_count": 8,
   "id": "0e64eb76",
   "metadata": {
    "id": "0e64eb76"
   },
   "outputs": [],
   "source": [
    "df.drop(columns=[\"int_date\"],axis=1, inplace=True)\n",
    "df.drop(columns=[\"idcol\"],axis=1, inplace=True)"
   ]
  },
  {
   "cell_type": "code",
   "execution_count": 9,
   "id": "4e2c437c",
   "metadata": {
    "id": "4e2c437c"
   },
   "outputs": [],
   "source": [
    "df.insert(0, 'id', df.pop('id'))"
   ]
  },
  {
   "cell_type": "code",
   "execution_count": 10,
   "id": "31d855f5",
   "metadata": {
    "colab": {
     "base_uri": "https://localhost:8080/"
    },
    "id": "31d855f5",
    "outputId": "691c8d70-6b95-489f-b2f1-9f9fc24be0b0"
   },
   "outputs": [
    {
     "data": {
      "text/plain": [
       "np.False_"
      ]
     },
     "execution_count": 10,
     "metadata": {},
     "output_type": "execute_result"
    }
   ],
   "source": [
    "df.isna().any().any()"
   ]
  },
  {
   "cell_type": "code",
   "execution_count": 11,
   "id": "01729b0c",
   "metadata": {
    "colab": {
     "base_uri": "https://localhost:8080/"
    },
    "id": "01729b0c",
    "outputId": "570813e3-9176-4e84-b3e1-7e3c396da138"
   },
   "outputs": [
    {
     "data": {
      "text/plain": [
       "['id',\n",
       " 'interaction',\n",
       " 'item',\n",
       " 'page',\n",
       " 'tod',\n",
       " 'item_type',\n",
       " 'item_descrip',\n",
       " 'segment',\n",
       " 'beh_segment',\n",
       " 'active_ind',\n",
       " 'day',\n",
       " 'day_of_week',\n",
       " 'month']"
      ]
     },
     "execution_count": 11,
     "metadata": {},
     "output_type": "execute_result"
    }
   ],
   "source": [
    "columns = df.columns.to_list()\n",
    "columns"
   ]
  },
  {
   "cell_type": "code",
   "execution_count": 12,
   "id": "c42d5fb5",
   "metadata": {
    "id": "c42d5fb5"
   },
   "outputs": [],
   "source": [
    "\n",
    "id_col = ['id']\n",
    "user_features = ['active_ind', 'segment', 'beh_segment', 'tod', 'day', 'day_of_week', 'month']\n",
    "item_features = ['item', 'item_descrip', 'page', 'interaction']\n",
    "\n",
    "id_df = df[id_col]\n",
    "user_df = df[user_features]\n",
    "item_df = df[item_features]\n"
   ]
  },
  {
   "cell_type": "code",
   "execution_count": 13,
   "id": "37d1cf7b",
   "metadata": {
    "id": "37d1cf7b"
   },
   "outputs": [
    {
     "name": "stderr",
     "output_type": "stream",
     "text": [
      "2025-05-27 20:37:30.003572: E external/local_xla/xla/stream_executor/cuda/cuda_driver.cc:152] failed call to cuInit: INTERNAL: CUDA error: Failed call to cuInit: UNKNOWN ERROR (303)\n"
     ]
    }
   ],
   "source": [
    "dataset = tf.data.Dataset.from_tensor_slices(df.to_dict(orient='list'))"
   ]
  },
  {
   "cell_type": "code",
   "execution_count": 14,
   "id": "77e273eb",
   "metadata": {
    "id": "77e273eb"
   },
   "outputs": [],
   "source": [
    "user_id_col = 'id'\n",
    "item_id_col = 'item'\n",
    "unique_user_ids = df[user_id_col].unique()\n",
    "user_id_lookup = tf.keras.layers.IntegerLookup(mask_token=None)\n",
    "user_id_lookup.adapt(tf.constant(unique_user_ids))\n",
    "USERS_VOCAB_SIZE = user_id_lookup.vocabulary_size()"
   ]
  },
  {
   "cell_type": "code",
   "execution_count": 15,
   "id": "6ff33182",
   "metadata": {
    "id": "6ff33182"
   },
   "outputs": [],
   "source": [
    "unique_item_ids = df[item_id_col].unique()\n",
    "item_id_lookup = tf.keras.layers.StringLookup(mask_token=None)\n",
    "item_id_lookup.adapt(tf.constant(unique_item_ids))\n",
    "ITEMS_VOCAB_SIZE = item_id_lookup.vocabulary_size()"
   ]
  },
  {
   "cell_type": "code",
   "execution_count": 16,
   "id": "f1dfd8ec",
   "metadata": {
    "id": "f1dfd8ec"
   },
   "outputs": [],
   "source": [
    "item_description_vectorizer = TextVectorization(max_tokens=10000, output_sequence_length=16, output_mode='int')\n",
    "unique_items_df = df[[item_id_col, 'item_descrip']].drop_duplicates()\n",
    "item_description_vectorizer.adapt(unique_items_df['item_descrip'])\n",
    "ITEM_DESCRIPTION_COUNT = item_description_vectorizer.vocabulary_size()\n"
   ]
  },
  {
   "cell_type": "code",
   "execution_count": 17,
   "id": "15b71b22",
   "metadata": {
    "id": "15b71b22"
   },
   "outputs": [],
   "source": [
    "feature_space = FeatureSpace(\n",
    "    features={\n",
    "        'active_ind': FeatureSpace.integer_categorical(num_oov_indices=1, output_mode='int'), \n",
    "        'segment': FeatureSpace.integer_categorical(num_oov_indices=1, output_mode='int'),    \n",
    "        'beh_segment': FeatureSpace.integer_categorical(num_oov_indices=1, output_mode='int'), \n",
    "        'tod': FeatureSpace.integer_categorical(num_oov_indices=1, output_mode='int'),        \n",
    "        'page': FeatureSpace.integer_categorical(num_oov_indices=1, output_mode='int'),      \n",
    "        'day': FeatureSpace.float_normalized(),\n",
    "        'day_of_week': FeatureSpace.float_normalized(),\n",
    "        'month': FeatureSpace.float_normalized()\n",
    "    },\n",
    "    output_mode=\"dict\"\n",
    ")\n",
    "\n",
    "candidate_dataset = {\n",
    "    \"item_id\": tf.cast(item_id_lookup(tf.constant(unique_items_df[item_id_col].values)), tf.int32),\n",
    "    \"item_descrip_vector\": tf.cast(item_description_vectorizer(tf.constant(unique_items_df['item_descrip'].values)), tf.int32)\n",
    "}\n",
    "\n",
    "\n",
    "USERS_COUNT = df['id'].nunique()\n",
    "ITEMS_COUNT = df['item'].nunique()"
   ]
  },
  {
   "cell_type": "code",
   "execution_count": 18,
   "id": "ac8f0e24",
   "metadata": {
    "id": "ac8f0e24"
   },
   "outputs": [],
   "source": [
    "interaction_dataset_raw = tf.data.Dataset.from_tensor_slices(df.to_dict(orient='list'))\n",
    "dataset_size = df.shape[0]\n",
    "train_size = int(0.8 * dataset_size)\n",
    "train_interaction_dataset_raw = interaction_dataset_raw.take(train_size)\n",
    "test_interaction_dataset_raw = interaction_dataset_raw.skip(train_size)"
   ]
  },
  {
   "cell_type": "code",
   "execution_count": 19,
   "id": "d90b6aae",
   "metadata": {
    "id": "d90b6aae"
   },
   "outputs": [
    {
     "name": "stderr",
     "output_type": "stream",
     "text": [
      "2025-05-27 20:37:37.519708: I tensorflow/core/framework/local_rendezvous.cc:405] Local rendezvous is aborting with status: OUT_OF_RANGE: End of sequence\n",
      "2025-05-27 20:37:40.246897: I tensorflow/core/framework/local_rendezvous.cc:405] Local rendezvous is aborting with status: OUT_OF_RANGE: End of sequence\n",
      "2025-05-27 20:37:40.246897: I tensorflow/core/framework/local_rendezvous.cc:405] Local rendezvous is aborting with status: OUT_OF_RANGE: End of sequence\n",
      "2025-05-27 20:37:45.778960: I tensorflow/core/framework/local_rendezvous.cc:405] Local rendezvous is aborting with status: OUT_OF_RANGE: End of sequence\n",
      "2025-05-27 20:37:45.778960: I tensorflow/core/framework/local_rendezvous.cc:405] Local rendezvous is aborting with status: OUT_OF_RANGE: End of sequence\n",
      "2025-05-27 20:38:05.861302: I tensorflow/core/framework/local_rendezvous.cc:405] Local rendezvous is aborting with status: OUT_OF_RANGE: End of sequence\n",
      "2025-05-27 20:38:05.861302: I tensorflow/core/framework/local_rendezvous.cc:405] Local rendezvous is aborting with status: OUT_OF_RANGE: End of sequence\n"
     ]
    }
   ],
   "source": [
    "def extract_features_for_fs_adapt(record):\n",
    "    keys = list(feature_space.features.keys())\n",
    "    return {k: record[k] for k in keys}\n",
    "\n",
    "train_data_for_fs_adapt = train_interaction_dataset_raw.map(extract_features_for_fs_adapt)\n",
    "feature_space.adapt(train_data_for_fs_adapt)"
   ]
  },
  {
   "cell_type": "code",
   "execution_count": 20,
   "id": "fc9e469a",
   "metadata": {
    "id": "fc9e469a"
   },
   "outputs": [],
   "source": [
    "feature_space_feature_names = list(feature_space.features.keys())\n",
    "\n",
    "def preprocess_interaction_for_model(interaction_record):\n",
    "    fs_input = {k: interaction_record[k] for k in feature_space_feature_names}\n",
    "    processed_features = feature_space(fs_input)\n",
    "    query_inputs = {\n",
    "        \"user_id\": user_id_lookup(interaction_record[user_id_col]),\n",
    "        **processed_features\n",
    "    }\n",
    "    candidate_inputs = {\n",
    "        \"item_id\": item_id_lookup(interaction_record[item_id_col]),\n",
    "        \"item_descrip_vector\": item_description_vectorizer(interaction_record[\"item_descrip\"])\n",
    "    }\n",
    "    target_label = item_id_lookup(interaction_record[item_id_col])\n",
    "    all_inputs = {**query_inputs, **candidate_inputs}\n",
    "    return all_inputs, target_label\n",
    "\n",
    "BATCH_SIZE = 128\n",
    "train_dataset = train_interaction_dataset_raw.map(preprocess_interaction_for_model).batch(BATCH_SIZE).prefetch(tf.data.AUTOTUNE)\n",
    "test_dataset = test_interaction_dataset_raw.map(preprocess_interaction_for_model).batch(BATCH_SIZE).prefetch(tf.data.AUTOTUNE)"
   ]
  },
  {
   "cell_type": "code",
   "execution_count": 21,
   "id": "5106624c",
   "metadata": {
    "id": "5106624c"
   },
   "outputs": [],
   "source": [
    "class QueryModel(tf.keras.Model):\n",
    "    def __init__(self, dense_units=[64, 32]):\n",
    "        super().__init__()\n",
    "        self.embedding_dimension = 32 \n",
    "        self.categorical_embedding_dimension = 16 \n",
    "\n",
    "        self.user_embedding = tf.keras.layers.Embedding(USERS_VOCAB_SIZE, self.embedding_dimension)\n",
    "        self.active_ind_embedding = tf.keras.layers.Embedding(feature_space.preprocessors['active_ind'].vocabulary_size(), self.categorical_embedding_dimension)\n",
    "        self.segment_embedding = tf.keras.layers.Embedding(feature_space.preprocessors['segment'].vocabulary_size(), self.categorical_embedding_dimension)\n",
    "        self.beh_segment_embedding = tf.keras.layers.Embedding(feature_space.preprocessors['beh_segment'].vocabulary_size(), self.categorical_embedding_dimension)\n",
    "        self.tod_embedding = tf.keras.layers.Embedding(feature_space.preprocessors['tod'].vocabulary_size(), self.categorical_embedding_dimension)\n",
    "        self.page_embedding = tf.keras.layers.Embedding(feature_space.preprocessors['page'].vocabulary_size(), self.categorical_embedding_dimension)\n",
    "\n",
    "        self.dense_layers = tf.keras.Sequential([tf.keras.layers.Dense(u, activation='relu') for u in dense_units])\n",
    "\n",
    "    def build(self, input_shape):\n",
    "        concat_size = (\n",
    "            self.embedding_dimension +  \n",
    "            self.categorical_embedding_dimension * 5 + # active_ind, segment, beh_segment, tod, page embeddings\n",
    "            len(['day', 'day_of_week', 'month']) \n",
    "        )\n",
    "        self.dense_layers.build((None, concat_size)) \n",
    "\n",
    "\n",
    "        super().build(input_shape)\n",
    "\n",
    "\n",
    "    def call(self, inputs):\n",
    "        user_emb = self.user_embedding(inputs[\"user_id\"])\n",
    "\n",
    "        active_ind = tf.squeeze(inputs[\"active_ind\"], axis=-1)\n",
    "        segment = tf.squeeze(inputs[\"segment\"], axis=-1)\n",
    "        beh_segment = tf.squeeze(inputs[\"beh_segment\"], axis=-1)\n",
    "        tod = tf.squeeze(inputs[\"tod\"], axis=-1)\n",
    "        page = tf.squeeze(inputs[\"page\"], axis=-1)\n",
    "\n",
    "        active_ind_emb = self.active_ind_embedding(active_ind)\n",
    "        segment_emb = self.segment_embedding(segment)\n",
    "        beh_segment_emb = self.beh_segment_embedding(beh_segment)\n",
    "        tod_emb = self.tod_embedding(tod)\n",
    "        page_emb = self.page_embedding(page)\n",
    "\n",
    "        numerical_features = tf.stack([\n",
    "            inputs[\"day\"],\n",
    "            inputs[\"day_of_week\"],\n",
    "            inputs[\"month\"]\n",
    "        ], axis=1)\n",
    "\n",
    "        feature_embedding = tf.concat(\n",
    "            [\n",
    "                user_emb,           \n",
    "                active_ind_emb,     \n",
    "                segment_emb,        \n",
    "                beh_segment_emb,    \n",
    "                tod_emb,            \n",
    "                page_emb,           \n",
    "                tf.squeeze(numerical_features, axis=-1)  \n",
    "            ],\n",
    "            axis=1\n",
    "        )\n",
    "\n",
    "\n",
    "        return self.dense_layers(feature_embedding)"
   ]
  },
  {
   "cell_type": "code",
   "execution_count": 22,
   "id": "76acedc0",
   "metadata": {
    "id": "76acedc0"
   },
   "outputs": [],
   "source": [
    "class CandidateModel(tf.keras.Model):\n",
    "    def __init__(self, dense_units=[64, 32]):\n",
    "        super().__init__()\n",
    "        self.item_embedding_dimension = 32 \n",
    "        self.item_desc_embedding_dimension = 32 \n",
    "\n",
    "        self.item_embedding = tf.keras.layers.Embedding(ITEMS_VOCAB_SIZE, self.item_embedding_dimension)\n",
    "        self.item_desc_embedding = tf.keras.Sequential([\n",
    "            tf.keras.layers.Embedding(ITEM_DESCRIPTION_COUNT, self.item_desc_embedding_dimension, mask_zero=True),\n",
    "            tf.keras.layers.GlobalAveragePooling1D()\n",
    "        ])\n",
    "        self.dense_layers = tf.keras.Sequential([tf.keras.layers.Dense(u, activation='relu') for u in dense_units])\n",
    "\n",
    "    def build(self, input_shape):\n",
    "        \n",
    "        concat_size = (\n",
    "            self.item_embedding_dimension +  # item_embedding\n",
    "            self.item_desc_embedding_dimension # item_desc_embedding (after pooling)\n",
    "        )\n",
    "        self.dense_layers.build((None, concat_size)) \n",
    "\n",
    "        \n",
    "\n",
    "        super().build(input_shape)\n",
    "\n",
    "    def call(self, inputs):\n",
    "        item_emb = self.item_embedding(inputs[\"item_id\"])\n",
    "        desc_emb = self.item_desc_embedding(inputs[\"item_descrip_vector\"])\n",
    "        features = tf.concat([item_emb, desc_emb], axis=1)\n",
    "        return self.dense_layers(features)"
   ]
  },
  {
   "cell_type": "code",
   "execution_count": 23,
   "id": "e1d62b52",
   "metadata": {
    "id": "e1d62b52"
   },
   "outputs": [],
   "source": [
    "class RecommenderSystem(tf.keras.Model):\n",
    "    def __init__(self, retrieval_k=10, dense_units_query=[64,32], dense_units_candidate=[64,32], embedding_dimension=32):\n",
    "        super().__init__()\n",
    "        self.query_model = QueryModel(dense_units_query)\n",
    "        self.candidate_model = CandidateModel(dense_units_candidate)\n",
    "        self.retrieval_layer = BruteForceRetrieval(k=retrieval_k)\n",
    "        self.retrieval_k = retrieval_k\n",
    "        self.loss_fn = SparseCategoricalCrossentropy(from_logits=True)\n",
    "        self._candidate_embeddings = None\n",
    "        \n",
    "        # Metrics\n",
    "        self.loss_tracker = tf.keras.metrics.Mean(name='loss')\n",
    "        self.top_k_metric = tf.keras.metrics.SparseTopKCategoricalAccuracy(\n",
    "            k=retrieval_k, name='top_k_accuracy'\n",
    "        )\n",
    "        self.mrr_metric = MeanReciprocalRank(k=retrieval_k, name='mrr')\n",
    "        self.map_metric = MeanAveragePrecision(k=retrieval_k, name='map')\n",
    "        self.ndcg_metric = NDCG(k=retrieval_k, name='ndcg')\n",
    "\n",
    "    def reset_metrics(self):\n",
    "        self.loss_tracker.reset_state()\n",
    "        self.top_k_metric.reset_state()\n",
    "        self.mrr_metric.reset_state()\n",
    "        self.map_metric.reset_state()\n",
    "        self.ndcg_metric.reset_state()\n",
    "\n",
    "    @property\n",
    "    def metrics(self):\n",
    "        return [\n",
    "            self.loss_tracker,\n",
    "            self.top_k_metric,\n",
    "            self.mrr_metric,\n",
    "            self.map_metric,\n",
    "            self.ndcg_metric\n",
    "        ]\n",
    "\n",
    "    def build(self, input_shape):\n",
    "        query_input_shape = {k: input_shape[k] for k in ['user_id'] + list(feature_space.features.keys())}\n",
    "        candidate_input_shape = {\n",
    "            'item_id': input_shape['item_id'],\n",
    "            'item_descrip_vector': input_shape['item_descrip_vector']\n",
    "        }\n",
    "        self.query_model.build(query_input_shape)\n",
    "        self.candidate_model.build(candidate_input_shape)\n",
    "        super().build(input_shape)\n",
    "\n",
    "    def update_candidates(self, candidate_features):\n",
    "        self._candidate_embeddings = self.candidate_model(candidate_features)\n",
    "        self.retrieval_layer.update_candidates(self._candidate_embeddings)\n",
    "\n",
    "    @tf.function\n",
    "    def call(self, inputs, training=False):\n",
    "        query_embeddings = self.query_model(inputs)\n",
    "        \n",
    "        if training:\n",
    "            if self._candidate_embeddings is None:\n",
    "                raise ValueError('Candidate embeddings not initialized.')\n",
    "            \n",
    "            logits = tf.matmul(query_embeddings, transpose(self._candidate_embeddings))\n",
    "            \n",
    "            padding_size = ITEMS_VOCAB_SIZE - tf.shape(logits)[1]\n",
    "            padding = [[0, 0], [0, padding_size]]\n",
    "            padding_mask = tf.pad(tf.ones_like(logits), padding)\n",
    "            padded_logits = tf.pad(logits, padding, constant_values=-1e10)\n",
    "            \n",
    "            final_logits = tf.where(\n",
    "                padding_mask > 0,\n",
    "                padded_logits,\n",
    "                tf.fill(tf.shape(padded_logits), -1e10)\n",
    "            )\n",
    "            \n",
    "            return final_logits\n",
    "        else:\n",
    "            scores, indices = self.retrieval_layer(query_embeddings)\n",
    "            return {'predictions': indices, 'scores': scores}\n",
    "\n",
    "    def compute_loss(self, x=None, y=None, y_pred=None, sample_weight=None):\n",
    "        return self.loss_fn(y, y_pred, sample_weight)\n",
    "\n",
    "    @tf.function\n",
    "    def train_step(self, data):\n",
    "        x, y = data\n",
    "        y = tf.cast(y, tf.int32)\n",
    "        \n",
    "        with tf.GradientTape() as tape:\n",
    "            logits = self(x, training=True)\n",
    "            loss = self.compute_loss(x=x, y=y, y_pred=logits)\n",
    "\n",
    "        gradients = tape.gradient(loss, self.trainable_variables)\n",
    "        self.optimizer.apply_gradients(zip(gradients, self.trainable_variables))\n",
    "\n",
    "        # Update metrics\n",
    "        self.loss_tracker(loss)\n",
    "        self.top_k_metric(y, logits)\n",
    "        \n",
    "        y_true_binary = tf.cast(tf.expand_dims(y, -1) == tf.range(tf.shape(logits)[1]), tf.float32)\n",
    "        self.mrr_metric({\"labels\": y_true_binary}, logits)\n",
    "        self.map_metric({\"labels\": y_true_binary}, logits)\n",
    "        self.ndcg_metric({\"labels\": y_true_binary}, logits)\n",
    "        \n",
    "        return {\n",
    "            'loss': self.loss_tracker.result(),\n",
    "            'top_k_accuracy': self.top_k_metric.result(),\n",
    "            'mrr': self.mrr_metric.result(),\n",
    "            'map': self.map_metric.result(),\n",
    "            'ndcg': self.ndcg_metric.result()\n",
    "        }\n",
    "\n",
    "    @tf.function\n",
    "    def test_step(self, data):\n",
    "        x, y = data\n",
    "        y = tf.cast(y, tf.int32)\n",
    "        \n",
    "        logits = self(x, training=True)\n",
    "        loss = self.compute_loss(x=x, y=y, y_pred=logits)\n",
    "        \n",
    "        # Update metrics\n",
    "        self.loss_tracker(loss)\n",
    "        self.top_k_metric(y, logits)\n",
    "        \n",
    "        y_true_binary = tf.cast(tf.expand_dims(y, -1) == tf.range(tf.shape(logits)[1]), tf.float32)\n",
    "        self.mrr_metric({\"labels\": y_true_binary}, logits)\n",
    "        self.map_metric({\"labels\": y_true_binary}, logits)\n",
    "        self.ndcg_metric({\"labels\": y_true_binary}, logits)\n",
    "        \n",
    "        return {\n",
    "            'loss': self.loss_tracker.result(),\n",
    "            'top_k_accuracy': self.top_k_metric.result(),\n",
    "            'mrr': self.mrr_metric.result(),\n",
    "            'map': self.map_metric.result(),\n",
    "            'ndcg': self.ndcg_metric.result()\n",
    "        }"
   ]
  },
  {
   "cell_type": "code",
   "execution_count": 24,
   "id": "982025d0",
   "metadata": {
    "id": "982025d0"
   },
   "outputs": [],
   "source": [
    "recommender_system = RecommenderSystem(retrieval_k=10)\n",
    "recommender_system.compile(\n",
    "    optimizer=Adam(learning_rate=0.005),\n",
    "    metrics=[\n",
    "        recommender_system.top_k_metric,\n",
    "        recommender_system.mrr_metric,\n",
    "        recommender_system.map_metric,\n",
    "        recommender_system.ndcg_metric\n",
    "    ]\n",
    ")\n",
    "\n",
    "class UpdateCandidatesCallback(tf.keras.callbacks.Callback):\n",
    "    def __init__(self, recommender_system, candidate_features):\n",
    "        super().__init__()\n",
    "        self.recommender_system = recommender_system\n",
    "        self.candidate_features = candidate_features\n",
    "    def on_test_begin(self, logs=None):\n",
    "        self.recommender_system.update_candidates(self.candidate_features)\n",
    "\n",
    "update_candidates_callback = UpdateCandidatesCallback(recommender_system, candidate_dataset)"
   ]
  },
  {
   "cell_type": "code",
   "execution_count": null,
   "id": "25d11e69",
   "metadata": {
    "colab": {
     "base_uri": "https://localhost:8080/"
    },
    "id": "25d11e69",
    "outputId": "a9d72385-8549-4559-84e4-ea452e6f9a87"
   },
   "outputs": [
    {
     "name": "stdout",
     "output_type": "stream",
     "text": [
      "Epoch 1/50\n"
     ]
    },
    {
     "name": "stderr",
     "output_type": "stream",
     "text": [
      "/home/kevin/Documents/Dataquest2025/.venv/lib/python3.12/site-packages/keras/src/optimizers/base_optimizer.py:774: UserWarning: Gradients do not exist for variables ['candidate_model/embedding_6/embeddings', 'candidate_model/sequential_1/embedding_7/embeddings', 'candidate_model/sequential_2/dense_2/kernel', 'candidate_model/sequential_2/dense_2/bias', 'candidate_model/sequential_2/dense_3/kernel', 'candidate_model/sequential_2/dense_3/bias'] when minimizing the loss. If using `model.compile()`, did you forget to provide a `loss` argument?\n",
      "  warnings.warn(\n"
     ]
    },
    {
     "name": "stdout",
     "output_type": "stream",
     "text": [
      "1415/1415 - 36s - 25ms/step - loss: 11263259.0000 - map: 0.1572 - mrr: 0.1572 - ndcg: 0.1942 - top_k_accuracy: 0.3132 - val_loss: 487426560.0000 - val_map: 0.1442 - val_mrr: 0.1442 - val_ndcg: 0.1801 - val_top_k_accuracy: 0.2976\n",
      "Epoch 2/50\n",
      "Epoch 2/50\n",
      "1415/1415 - 32s - 22ms/step - loss: 11263259.0000 - map: 0.2025 - mrr: 0.2025 - ndcg: 0.2433 - top_k_accuracy: 0.3775 - val_loss: 487426560.0000 - val_map: 0.1453 - val_mrr: 0.1453 - val_ndcg: 0.1817 - val_top_k_accuracy: 0.3019\n",
      "Epoch 3/50\n",
      "1415/1415 - 32s - 22ms/step - loss: 11263259.0000 - map: 0.2025 - mrr: 0.2025 - ndcg: 0.2433 - top_k_accuracy: 0.3775 - val_loss: 487426560.0000 - val_map: 0.1453 - val_mrr: 0.1453 - val_ndcg: 0.1817 - val_top_k_accuracy: 0.3019\n",
      "Epoch 3/50\n",
      "1415/1415 - 31s - 22ms/step - loss: 11263259.0000 - map: 0.2544 - mrr: 0.2544 - ndcg: 0.2992 - top_k_accuracy: 0.4470 - val_loss: 487426560.0000 - val_map: 0.1426 - val_mrr: 0.1426 - val_ndcg: 0.1768 - val_top_k_accuracy: 0.2949\n",
      "Epoch 4/50\n",
      "1415/1415 - 31s - 22ms/step - loss: 11263259.0000 - map: 0.2544 - mrr: 0.2544 - ndcg: 0.2992 - top_k_accuracy: 0.4470 - val_loss: 487426560.0000 - val_map: 0.1426 - val_mrr: 0.1426 - val_ndcg: 0.1768 - val_top_k_accuracy: 0.2949\n",
      "Epoch 4/50\n",
      "1415/1415 - 32s - 22ms/step - loss: 11263259.0000 - map: 0.2976 - mrr: 0.2977 - ndcg: 0.3455 - top_k_accuracy: 0.5101 - val_loss: 487426560.0000 - val_map: 0.1355 - val_mrr: 0.1355 - val_ndcg: 0.1675 - val_top_k_accuracy: 0.2835\n",
      "Epoch 5/50\n",
      "1415/1415 - 32s - 22ms/step - loss: 11263259.0000 - map: 0.2976 - mrr: 0.2977 - ndcg: 0.3455 - top_k_accuracy: 0.5101 - val_loss: 487426560.0000 - val_map: 0.1355 - val_mrr: 0.1355 - val_ndcg: 0.1675 - val_top_k_accuracy: 0.2835\n",
      "Epoch 5/50\n",
      "1415/1415 - 31s - 22ms/step - loss: 11263259.0000 - map: 0.3249 - mrr: 0.3249 - ndcg: 0.3745 - top_k_accuracy: 0.5540 - val_loss: 487426560.0000 - val_map: 0.1273 - val_mrr: 0.1274 - val_ndcg: 0.1584 - val_top_k_accuracy: 0.2788\n",
      "Epoch 5: early stopping\n",
      "Restoring model weights from the end of the best epoch: 2.\n",
      "1415/1415 - 31s - 22ms/step - loss: 11263259.0000 - map: 0.3249 - mrr: 0.3249 - ndcg: 0.3745 - top_k_accuracy: 0.5540 - val_loss: 487426560.0000 - val_map: 0.1273 - val_mrr: 0.1274 - val_ndcg: 0.1584 - val_top_k_accuracy: 0.2788\n",
      "Epoch 5: early stopping\n",
      "Restoring model weights from the end of the best epoch: 2.\n"
     ]
    }
   ],
   "source": [
    "tf.keras.backend.clear_session()\n",
    "\n",
    "recommender_system = RecommenderSystem(retrieval_k=10)\n",
    "recommender_system.compile(\n",
    "    optimizer=Adam(learning_rate=0.005),\n",
    "    loss=tf.keras.losses.SparseCategoricalCrossentropy(from_logits=True),\n",
    "    metrics=[\n",
    "        recommender_system.top_k_metric,\n",
    "        recommender_system.mrr_metric,\n",
    "        recommender_system.map_metric,\n",
    "        recommender_system.ndcg_metric\n",
    "    ]\n",
    ")\n",
    "\n",
    "recommender_system.update_candidates(candidate_dataset)\n",
    "\n",
    "history = recommender_system.fit(\n",
    "    train_dataset,\n",
    "    epochs=50,\n",
    "    validation_data=test_dataset,\n",
    "    callbacks=[\n",
    "        update_candidates_callback,\n",
    "        EarlyStopping(\n",
    "            monitor='val_top_k_accuracy',  \n",
    "            mode='max',                   \n",
    "            patience=3,\n",
    "            validation_freq=5,\n",
    "            restore_best_weights=True,\n",
    "            verbose=1\n",
    "        )\n",
    "    ],\n",
    "    verbose=2  \n",
    ")"
   ]
  },
  {
   "cell_type": "code",
   "execution_count": 26,
   "id": "3aeb49b6",
   "metadata": {},
   "outputs": [
    {
     "data": {
      "image/png": "[encoded data removed]",
      "text/plain": [
       "<Figure size 1500x1000 with 4 Axes>"
      ]
     },
     "metadata": {},
     "output_type": "display_data"
    },
    {
     "name": "stdout",
     "output_type": "stream",
     "text": [
      "Final Training Metrics:\n"
     ]
    },
    {
     "data": {
      "application/vnd.microsoft.datawrangler.viewer.v0+json": {
       "columns": [
        {
         "name": "index",
         "rawType": "int64",
         "type": "integer"
        },
        {
         "name": "Metric",
         "rawType": "object",
         "type": "string"
        },
        {
         "name": "Value",
         "rawType": "float64",
         "type": "float"
        }
       ],
       "ref": "18e84f06-ead8-47c4-bdc3-c58f931b011c",
       "rows": [
        [
         "0",
         "Top-10 Accuracy",
         "0.5540424585342407"
        ],
        [
         "1",
         "MRR@10",
         "0.32486194372177124"
        ],
        [
         "2",
         "MAP@10",
         "0.32487964630126953"
        ],
        [
         "3",
         "NDCG@10",
         "0.3745032250881195"
        ]
       ],
       "shape": {
        "columns": 2,
        "rows": 4
       }
      },
      "text/html": [
       "<div>\n",
       "<style scoped>\n",
       "    .dataframe tbody tr th:only-of-type {\n",
       "        vertical-align: middle;\n",
       "    }\n",
       "\n",
       "    .dataframe tbody tr th {\n",
       "        vertical-align: top;\n",
       "    }\n",
       "\n",
       "    .dataframe thead th {\n",
       "        text-align: right;\n",
       "    }\n",
       "</style>\n",
       "<table border=\"1\" class=\"dataframe\">\n",
       "  <thead>\n",
       "    <tr style=\"text-align: right;\">\n",
       "      <th></th>\n",
       "      <th>Metric</th>\n",
       "      <th>Value</th>\n",
       "    </tr>\n",
       "  </thead>\n",
       "  <tbody>\n",
       "    <tr>\n",
       "      <th>0</th>\n",
       "      <td>Top-10 Accuracy</td>\n",
       "      <td>0.554042</td>\n",
       "    </tr>\n",
       "    <tr>\n",
       "      <th>1</th>\n",
       "      <td>MRR@10</td>\n",
       "      <td>0.324862</td>\n",
       "    </tr>\n",
       "    <tr>\n",
       "      <th>2</th>\n",
       "      <td>MAP@10</td>\n",
       "      <td>0.324880</td>\n",
       "    </tr>\n",
       "    <tr>\n",
       "      <th>3</th>\n",
       "      <td>NDCG@10</td>\n",
       "      <td>0.374503</td>\n",
       "    </tr>\n",
       "  </tbody>\n",
       "</table>\n",
       "</div>"
      ],
      "text/plain": [
       "            Metric     Value\n",
       "0  Top-10 Accuracy  0.554042\n",
       "1           MRR@10  0.324862\n",
       "2           MAP@10  0.324880\n",
       "3          NDCG@10  0.374503"
      ]
     },
     "metadata": {},
     "output_type": "display_data"
    },
    {
     "name": "stdout",
     "output_type": "stream",
     "text": [
      "\n",
      "Final Validation Metrics:\n"
     ]
    },
    {
     "data": {
      "application/vnd.microsoft.datawrangler.viewer.v0+json": {
       "columns": [
        {
         "name": "index",
         "rawType": "int64",
         "type": "integer"
        },
        {
         "name": "Metric",
         "rawType": "object",
         "type": "string"
        },
        {
         "name": "Value",
         "rawType": "float64",
         "type": "float"
        }
       ],
       "ref": "78d0b351-7d84-44f0-a10e-f1c2f234ced5",
       "rows": [
        [
         "0",
         "Top-10 Accuracy",
         "0.2787754237651825"
        ],
        [
         "1",
         "MRR@10",
         "0.12744104862213135"
        ],
        [
         "2",
         "MAP@10",
         "0.12728261947631836"
        ],
        [
         "3",
         "NDCG@10",
         "0.15837503969669342"
        ]
       ],
       "shape": {
        "columns": 2,
        "rows": 4
       }
      },
      "text/html": [
       "<div>\n",
       "<style scoped>\n",
       "    .dataframe tbody tr th:only-of-type {\n",
       "        vertical-align: middle;\n",
       "    }\n",
       "\n",
       "    .dataframe tbody tr th {\n",
       "        vertical-align: top;\n",
       "    }\n",
       "\n",
       "    .dataframe thead th {\n",
       "        text-align: right;\n",
       "    }\n",
       "</style>\n",
       "<table border=\"1\" class=\"dataframe\">\n",
       "  <thead>\n",
       "    <tr style=\"text-align: right;\">\n",
       "      <th></th>\n",
       "      <th>Metric</th>\n",
       "      <th>Value</th>\n",
       "    </tr>\n",
       "  </thead>\n",
       "  <tbody>\n",
       "    <tr>\n",
       "      <th>0</th>\n",
       "      <td>Top-10 Accuracy</td>\n",
       "      <td>0.278775</td>\n",
       "    </tr>\n",
       "    <tr>\n",
       "      <th>1</th>\n",
       "      <td>MRR@10</td>\n",
       "      <td>0.127441</td>\n",
       "    </tr>\n",
       "    <tr>\n",
       "      <th>2</th>\n",
       "      <td>MAP@10</td>\n",
       "      <td>0.127283</td>\n",
       "    </tr>\n",
       "    <tr>\n",
       "      <th>3</th>\n",
       "      <td>NDCG@10</td>\n",
       "      <td>0.158375</td>\n",
       "    </tr>\n",
       "  </tbody>\n",
       "</table>\n",
       "</div>"
      ],
      "text/plain": [
       "            Metric     Value\n",
       "0  Top-10 Accuracy  0.278775\n",
       "1           MRR@10  0.127441\n",
       "2           MAP@10  0.127283\n",
       "3          NDCG@10  0.158375"
      ]
     },
     "metadata": {},
     "output_type": "display_data"
    }
   ],
   "source": [
    "plt.figure(figsize=(15, 10))\n",
    "\n",
    "plt.subplot(2, 2, 1)\n",
    "plt.plot(history.history['top_k_accuracy'], label='Training Top-K')\n",
    "plt.plot(history.history['val_top_k_accuracy'], label='Validation Top-K')\n",
    "plt.title('Top-K Accuracy Over Time')\n",
    "plt.xlabel('Epoch')\n",
    "plt.ylabel('Top-K Accuracy')\n",
    "plt.legend()\n",
    "plt.grid(True)\n",
    "\n",
    "plt.subplot(2, 2, 2)\n",
    "plt.plot(history.history['mrr'], label='Training MRR')\n",
    "plt.plot(history.history['val_mrr'], label='Validation MRR')\n",
    "plt.title('Mean Reciprocal Rank Over Time')\n",
    "plt.xlabel('Epoch')\n",
    "plt.ylabel('MRR')\n",
    "plt.legend()\n",
    "plt.grid(True)\n",
    "\n",
    "plt.subplot(2, 2, 3)\n",
    "plt.plot(history.history['map'], label='Training MAP')\n",
    "plt.plot(history.history['val_map'], label='Validation MAP')\n",
    "plt.title('Mean Average Precision Over Time')\n",
    "plt.xlabel('Epoch')\n",
    "plt.ylabel('MAP')\n",
    "plt.legend()\n",
    "plt.grid(True)\n",
    "\n",
    "plt.subplot(2, 2, 4)\n",
    "plt.plot(history.history['ndcg'], label='Training NDCG')\n",
    "plt.plot(history.history['val_ndcg'], label='Validation NDCG')\n",
    "plt.title('NDCG Over Time')\n",
    "plt.xlabel('Epoch')\n",
    "plt.ylabel('NDCG')\n",
    "plt.legend()\n",
    "plt.grid(True)\n",
    "\n",
    "plt.tight_layout()\n",
    "plt.show()\n",
    "\n",
    "train_metrics = {\n",
    "    'Metric': [\n",
    "        f\"Top-{recommender_system.retrieval_k} Accuracy\",\n",
    "        f\"MRR@{recommender_system.retrieval_k}\",\n",
    "        f\"MAP@{recommender_system.retrieval_k}\",\n",
    "        f\"NDCG@{recommender_system.retrieval_k}\"\n",
    "    ],\n",
    "    'Value': [\n",
    "        history.history['top_k_accuracy'][-1],\n",
    "        history.history['mrr'][-1],\n",
    "        history.history['map'][-1],\n",
    "        history.history['ndcg'][-1]\n",
    "    ]\n",
    "}\n",
    "\n",
    "val_metrics = {\n",
    "    'Metric': [\n",
    "        f\"Top-{recommender_system.retrieval_k} Accuracy\",\n",
    "        f\"MRR@{recommender_system.retrieval_k}\",\n",
    "        f\"MAP@{recommender_system.retrieval_k}\",\n",
    "        f\"NDCG@{recommender_system.retrieval_k}\"\n",
    "    ],\n",
    "    'Value': [\n",
    "        history.history['val_top_k_accuracy'][-1],\n",
    "        history.history['val_mrr'][-1],\n",
    "        history.history['val_map'][-1],\n",
    "        history.history['val_ndcg'][-1]\n",
    "    ]\n",
    "}\n",
    "\n",
    "train_df = pd.DataFrame(train_metrics)\n",
    "val_df = pd.DataFrame(val_metrics)\n",
    "\n",
    "print(\"Final Training Metrics:\")\n",
    "display(train_df)\n",
    "\n",
    "print(\"\\nFinal Validation Metrics:\")\n",
    "display(val_df)"
   ]
  },
  {
   "cell_type": "code",
   "execution_count": 27,
   "id": "b428493f",
   "metadata": {},
   "outputs": [
    {
     "name": "stdout",
     "output_type": "stream",
     "text": [
      "\u001b[1m354/354\u001b[0m \u001b[32m━━━━━━━━━━━━━━━━━━━━\u001b[0m\u001b[37m\u001b[0m \u001b[1m5s\u001b[0m 14ms/step - loss: 494607904.0000 - map: 0.1381 - mrr: 0.1381 - ndcg: 0.1746 - top_k_accuracy: 0.2952\n",
      "\u001b[1m354/354\u001b[0m \u001b[32m━━━━━━━━━━━━━━━━━━━━\u001b[0m\u001b[37m\u001b[0m \u001b[1m5s\u001b[0m 14ms/step - loss: 494607904.0000 - map: 0.1381 - mrr: 0.1381 - ndcg: 0.1746 - top_k_accuracy: 0.2952\n"
     ]
    }
   ],
   "source": [
    "test_metrics = recommender_system.evaluate(test_dataset, verbose=1)\n"
   ]
  },
  {
   "cell_type": "code",
   "execution_count": 28,
   "id": "7e2e5ca2",
   "metadata": {},
   "outputs": [],
   "source": [
    "item_mapping = df[['item', 'item_descrip']].drop_duplicates().set_index('item')['item_descrip'].to_dict()\n",
    "\n",
    "def display_user_history(user_id):\n",
    "    user_history = df[df['id'] == user_id].sort_values('month')\n",
    "    print(f\"\\nUser {user_id} interaction history:\")\n",
    "    print(\"-\" * 50)\n",
    "    for _, row in user_history.iterrows():\n",
    "        print(f\"Item: {row['item_descrip']}\")\n",
    "        print(f\"Interaction: {'CHECKOUT' if row['interaction'] == 1 else 'CLICK'}\")\n",
    "        print(f\"Month: {row['month']:.0f}, Day: {row['day']:.0f}\")\n",
    "        print(\"-\" * 50)\n",
    "\n",
    "def get_recommendations_for_user(user_id, user_data):\n",
    "    user_id_tensor = user_id_lookup(tf.constant([int(user_id)]))\n",
    "    \n",
    "    user_features = {\n",
    "        'user_id': user_id_tensor,\n",
    "        'active_ind': tf.constant([[user_data['active_ind']]], dtype=tf.int32),\n",
    "        'segment': tf.constant([[user_data['segment']]], dtype=tf.int32),\n",
    "        'beh_segment': tf.constant([[user_data['beh_segment']]], dtype=tf.int32),\n",
    "        'tod': tf.constant([[user_data['tod']]], dtype=tf.int32),\n",
    "        'page': tf.constant([[user_data['page']]], dtype=tf.int32),\n",
    "        'day': tf.constant([[user_data['day']]], dtype=tf.float32),\n",
    "        'day_of_week': tf.constant([[user_data['day_of_week']]], dtype=tf.float32),\n",
    "        'month': tf.constant([[user_data['month']]], dtype=tf.float32)\n",
    "    }\n",
    "    \n",
    "    recommender_system.update_candidates(candidate_dataset)\n",
    "    \n",
    "    try:\n",
    "        recommendations = recommender_system(user_features)\n",
    "        return recommendations['predictions'][0], recommendations['scores'][0]\n",
    "    except Exception as e:\n",
    "        print(f\"Error getting recommendations: {str(e)}\")\n",
    "        return [], []"
   ]
  },
  {
   "cell_type": "code",
   "execution_count": 29,
   "id": "cd06aba4",
   "metadata": {},
   "outputs": [
    {
     "name": "stdout",
     "output_type": "stream",
     "text": [
      "Found 15155 active users across 4 segments\n"
     ]
    },
    {
     "data": {
      "application/vnd.microsoft.datawrangler.viewer.v0+json": {
       "columns": [
        {
         "name": "index",
         "rawType": "int64",
         "type": "integer"
        },
        {
         "name": "Segment",
         "rawType": "int8",
         "type": "integer"
        },
        {
         "name": "User ID",
         "rawType": "int64",
         "type": "integer"
        },
        {
         "name": "Total Interactions",
         "rawType": "int64",
         "type": "integer"
        },
        {
         "name": "Unique Items Viewed",
         "rawType": "int64",
         "type": "integer"
        },
        {
         "name": "Behavioral Segment",
         "rawType": "int64",
         "type": "integer"
        },
        {
         "name": "Activity Status",
         "rawType": "object",
         "type": "string"
        }
       ],
       "ref": "c581c765-fd8d-426e-9252-372d1e165009",
       "rows": [
        [
         "0",
         "0",
         "28951",
         "19",
         "8",
         "6",
         "Inactive"
        ],
        [
         "1",
         "1",
         "49398",
         "5",
         "2",
         "1",
         "Inactive"
        ],
        [
         "2",
         "2",
         "55558",
         "5",
         "2",
         "17",
         "Inactive"
        ]
       ],
       "shape": {
        "columns": 6,
        "rows": 3
       }
      },
      "text/html": [
       "<div>\n",
       "<style scoped>\n",
       "    .dataframe tbody tr th:only-of-type {\n",
       "        vertical-align: middle;\n",
       "    }\n",
       "\n",
       "    .dataframe tbody tr th {\n",
       "        vertical-align: top;\n",
       "    }\n",
       "\n",
       "    .dataframe thead th {\n",
       "        text-align: right;\n",
       "    }\n",
       "</style>\n",
       "<table border=\"1\" class=\"dataframe\">\n",
       "  <thead>\n",
       "    <tr style=\"text-align: right;\">\n",
       "      <th></th>\n",
       "      <th>Segment</th>\n",
       "      <th>User ID</th>\n",
       "      <th>Total Interactions</th>\n",
       "      <th>Unique Items Viewed</th>\n",
       "      <th>Behavioral Segment</th>\n",
       "      <th>Activity Status</th>\n",
       "    </tr>\n",
       "  </thead>\n",
       "  <tbody>\n",
       "    <tr>\n",
       "      <th>0</th>\n",
       "      <td>0</td>\n",
       "      <td>28951</td>\n",
       "      <td>19</td>\n",
       "      <td>8</td>\n",
       "      <td>6</td>\n",
       "      <td>Inactive</td>\n",
       "    </tr>\n",
       "    <tr>\n",
       "      <th>1</th>\n",
       "      <td>1</td>\n",
       "      <td>49398</td>\n",
       "      <td>5</td>\n",
       "      <td>2</td>\n",
       "      <td>1</td>\n",
       "      <td>Inactive</td>\n",
       "    </tr>\n",
       "    <tr>\n",
       "      <th>2</th>\n",
       "      <td>2</td>\n",
       "      <td>55558</td>\n",
       "      <td>5</td>\n",
       "      <td>2</td>\n",
       "      <td>17</td>\n",
       "      <td>Inactive</td>\n",
       "    </tr>\n",
       "  </tbody>\n",
       "</table>\n",
       "</div>"
      ],
      "text/plain": [
       "   Segment  User ID  Total Interactions  Unique Items Viewed  \\\n",
       "0        0    28951                  19                    8   \n",
       "1        1    49398                   5                    2   \n",
       "2        2    55558                   5                    2   \n",
       "\n",
       "   Behavioral Segment Activity Status  \n",
       "0                   6        Inactive  \n",
       "1                   1        Inactive  \n",
       "2                  17        Inactive  "
      ]
     },
     "metadata": {},
     "output_type": "display_data"
    },
    {
     "data": {
      "application/vnd.microsoft.datawrangler.viewer.v0+json": {
       "columns": [
        {
         "name": "index",
         "rawType": "int64",
         "type": "integer"
        },
        {
         "name": "Previously Interacted Item",
         "rawType": "object",
         "type": "string"
        },
        {
         "name": "Interaction Type",
         "rawType": "object",
         "type": "string"
        }
       ],
       "ref": "4b2336e9-d643-472e-85f0-02e9518ef98f",
       "rows": [
        [
         "11893",
         "DDA TEMP LOANS BATCH",
         "CHECKOUT"
        ],
        [
         "11894",
         "DDA TEMP LOANS BATCH",
         "CLICK"
        ],
        [
         "23812",
         "POWERBALL",
         "CHECKOUT"
        ],
        [
         "23814",
         "SMART DEVICE OFFER",
         "CHECKOUT"
        ],
        [
         "23815",
         "MONEY MANAGEMENT_SENDMONE",
         "CLICK"
        ],
        [
         "40918",
         "ZFN LIM INCREASE",
         "CHECKOUT"
        ],
        [
         "40919",
         "ZFN LIM INCREASE",
         "CLICK"
        ],
        [
         "40920",
         "PLS NEW LOAN",
         "CHECKOUT"
        ],
        [
         "56370",
         "COVER YOUR WHOLE FAMILY",
         "CLICK"
        ],
        [
         "122388",
         "SMART SPEND",
         "CHECKOUT"
        ],
        [
         "162464",
         "PLS NEW LOAN",
         "CLICK"
        ]
       ],
       "shape": {
        "columns": 2,
        "rows": 11
       }
      },
      "text/html": [
       "<div>\n",
       "<style scoped>\n",
       "    .dataframe tbody tr th:only-of-type {\n",
       "        vertical-align: middle;\n",
       "    }\n",
       "\n",
       "    .dataframe tbody tr th {\n",
       "        vertical-align: top;\n",
       "    }\n",
       "\n",
       "    .dataframe thead th {\n",
       "        text-align: right;\n",
       "    }\n",
       "</style>\n",
       "<table border=\"1\" class=\"dataframe\">\n",
       "  <thead>\n",
       "    <tr style=\"text-align: right;\">\n",
       "      <th></th>\n",
       "      <th>Previously Interacted Item</th>\n",
       "      <th>Interaction Type</th>\n",
       "    </tr>\n",
       "  </thead>\n",
       "  <tbody>\n",
       "    <tr>\n",
       "      <th>11893</th>\n",
       "      <td>DDA TEMP LOANS BATCH</td>\n",
       "      <td>CHECKOUT</td>\n",
       "    </tr>\n",
       "    <tr>\n",
       "      <th>11894</th>\n",
       "      <td>DDA TEMP LOANS BATCH</td>\n",
       "      <td>CLICK</td>\n",
       "    </tr>\n",
       "    <tr>\n",
       "      <th>23812</th>\n",
       "      <td>POWERBALL</td>\n",
       "      <td>CHECKOUT</td>\n",
       "    </tr>\n",
       "    <tr>\n",
       "      <th>23814</th>\n",
       "      <td>SMART DEVICE OFFER</td>\n",
       "      <td>CHECKOUT</td>\n",
       "    </tr>\n",
       "    <tr>\n",
       "      <th>23815</th>\n",
       "      <td>MONEY MANAGEMENT_SENDMONE</td>\n",
       "      <td>CLICK</td>\n",
       "    </tr>\n",
       "    <tr>\n",
       "      <th>40918</th>\n",
       "      <td>ZFN LIM INCREASE</td>\n",
       "      <td>CHECKOUT</td>\n",
       "    </tr>\n",
       "    <tr>\n",
       "      <th>40919</th>\n",
       "      <td>ZFN LIM INCREASE</td>\n",
       "      <td>CLICK</td>\n",
       "    </tr>\n",
       "    <tr>\n",
       "      <th>40920</th>\n",
       "      <td>PLS NEW LOAN</td>\n",
       "      <td>CHECKOUT</td>\n",
       "    </tr>\n",
       "    <tr>\n",
       "      <th>56370</th>\n",
       "      <td>COVER YOUR WHOLE FAMILY</td>\n",
       "      <td>CLICK</td>\n",
       "    </tr>\n",
       "    <tr>\n",
       "      <th>122388</th>\n",
       "      <td>SMART SPEND</td>\n",
       "      <td>CHECKOUT</td>\n",
       "    </tr>\n",
       "    <tr>\n",
       "      <th>162464</th>\n",
       "      <td>PLS NEW LOAN</td>\n",
       "      <td>CLICK</td>\n",
       "    </tr>\n",
       "  </tbody>\n",
       "</table>\n",
       "</div>"
      ],
      "text/plain": [
       "       Previously Interacted Item Interaction Type\n",
       "11893        DDA TEMP LOANS BATCH         CHECKOUT\n",
       "11894        DDA TEMP LOANS BATCH            CLICK\n",
       "23812                   POWERBALL         CHECKOUT\n",
       "23814          SMART DEVICE OFFER         CHECKOUT\n",
       "23815   MONEY MANAGEMENT_SENDMONE            CLICK\n",
       "40918            ZFN LIM INCREASE         CHECKOUT\n",
       "40919            ZFN LIM INCREASE            CLICK\n",
       "40920                PLS NEW LOAN         CHECKOUT\n",
       "56370     COVER YOUR WHOLE FAMILY            CLICK\n",
       "122388                SMART SPEND         CHECKOUT\n",
       "162464               PLS NEW LOAN            CLICK"
      ]
     },
     "metadata": {},
     "output_type": "display_data"
    },
    {
     "data": {
      "application/vnd.microsoft.datawrangler.viewer.v0+json": {
       "columns": [
        {
         "name": "index",
         "rawType": "int64",
         "type": "integer"
        },
        {
         "name": "Rank",
         "rawType": "int64",
         "type": "integer"
        },
        {
         "name": "Item",
         "rawType": "object",
         "type": "string"
        },
        {
         "name": "Confidence Score",
         "rawType": "float64",
         "type": "float"
        }
       ],
       "ref": "ddf9450f-d255-492a-a00c-c71296827a49",
       "rows": [
        [
         "0",
         "1",
         "PLS NEW LOAN",
         "6.481581211090088"
        ],
        [
         "1",
         "2",
         "FUSION LIMIT INCREASE",
         "4.898988723754883"
        ],
        [
         "2",
         "3",
         "DDA TEMP LOANS BATCH",
         "4.881280899047852"
        ],
        [
         "3",
         "4",
         "SMART SPEND",
         "4.603000640869141"
        ],
        [
         "4",
         "5",
         "INCREASE FUNERAL COVER",
         "4.41721248626709"
        ],
        [
         "5",
         "6",
         "SMART DEVICE OFFER",
         "4.272599220275879"
        ],
        [
         "6",
         "7",
         "SCRATCH AND DENT",
         "4.028067588806152"
        ],
        [
         "7",
         "8",
         "HEALTH CASH PLAN",
         "3.9742424488067627"
        ],
        [
         "8",
         "9",
         "REVOLVING FACILITY",
         "3.909904956817627"
        ],
        [
         "9",
         "10",
         "EBUCKS WIMPY",
         "3.906568765640259"
        ]
       ],
       "shape": {
        "columns": 3,
        "rows": 10
       }
      },
      "text/html": [
       "<div>\n",
       "<style scoped>\n",
       "    .dataframe tbody tr th:only-of-type {\n",
       "        vertical-align: middle;\n",
       "    }\n",
       "\n",
       "    .dataframe tbody tr th {\n",
       "        vertical-align: top;\n",
       "    }\n",
       "\n",
       "    .dataframe thead th {\n",
       "        text-align: right;\n",
       "    }\n",
       "</style>\n",
       "<table border=\"1\" class=\"dataframe\">\n",
       "  <thead>\n",
       "    <tr style=\"text-align: right;\">\n",
       "      <th></th>\n",
       "      <th>Rank</th>\n",
       "      <th>Item</th>\n",
       "      <th>Confidence Score</th>\n",
       "    </tr>\n",
       "  </thead>\n",
       "  <tbody>\n",
       "    <tr>\n",
       "      <th>0</th>\n",
       "      <td>1</td>\n",
       "      <td>PLS NEW LOAN</td>\n",
       "      <td>6.481581</td>\n",
       "    </tr>\n",
       "    <tr>\n",
       "      <th>1</th>\n",
       "      <td>2</td>\n",
       "      <td>FUSION LIMIT INCREASE</td>\n",
       "      <td>4.898989</td>\n",
       "    </tr>\n",
       "    <tr>\n",
       "      <th>2</th>\n",
       "      <td>3</td>\n",
       "      <td>DDA TEMP LOANS BATCH</td>\n",
       "      <td>4.881281</td>\n",
       "    </tr>\n",
       "    <tr>\n",
       "      <th>3</th>\n",
       "      <td>4</td>\n",
       "      <td>SMART SPEND</td>\n",
       "      <td>4.603001</td>\n",
       "    </tr>\n",
       "    <tr>\n",
       "      <th>4</th>\n",
       "      <td>5</td>\n",
       "      <td>INCREASE FUNERAL COVER</td>\n",
       "      <td>4.417212</td>\n",
       "    </tr>\n",
       "    <tr>\n",
       "      <th>5</th>\n",
       "      <td>6</td>\n",
       "      <td>SMART DEVICE OFFER</td>\n",
       "      <td>4.272599</td>\n",
       "    </tr>\n",
       "    <tr>\n",
       "      <th>6</th>\n",
       "      <td>7</td>\n",
       "      <td>SCRATCH AND DENT</td>\n",
       "      <td>4.028068</td>\n",
       "    </tr>\n",
       "    <tr>\n",
       "      <th>7</th>\n",
       "      <td>8</td>\n",
       "      <td>HEALTH CASH PLAN</td>\n",
       "      <td>3.974242</td>\n",
       "    </tr>\n",
       "    <tr>\n",
       "      <th>8</th>\n",
       "      <td>9</td>\n",
       "      <td>REVOLVING FACILITY</td>\n",
       "      <td>3.909905</td>\n",
       "    </tr>\n",
       "    <tr>\n",
       "      <th>9</th>\n",
       "      <td>10</td>\n",
       "      <td>EBUCKS WIMPY</td>\n",
       "      <td>3.906569</td>\n",
       "    </tr>\n",
       "  </tbody>\n",
       "</table>\n",
       "</div>"
      ],
      "text/plain": [
       "   Rank                    Item  Confidence Score\n",
       "0     1            PLS NEW LOAN          6.481581\n",
       "1     2   FUSION LIMIT INCREASE          4.898989\n",
       "2     3    DDA TEMP LOANS BATCH          4.881281\n",
       "3     4             SMART SPEND          4.603001\n",
       "4     5  INCREASE FUNERAL COVER          4.417212\n",
       "5     6      SMART DEVICE OFFER          4.272599\n",
       "6     7        SCRATCH AND DENT          4.028068\n",
       "7     8        HEALTH CASH PLAN          3.974242\n",
       "8     9      REVOLVING FACILITY          3.909905\n",
       "9    10            EBUCKS WIMPY          3.906569"
      ]
     },
     "metadata": {},
     "output_type": "display_data"
    },
    {
     "data": {
      "application/vnd.microsoft.datawrangler.viewer.v0+json": {
       "columns": [
        {
         "name": "index",
         "rawType": "int64",
         "type": "integer"
        },
        {
         "name": "Previously Interacted Item",
         "rawType": "object",
         "type": "string"
        },
        {
         "name": "Interaction Type",
         "rawType": "object",
         "type": "string"
        }
       ],
       "ref": "d06a0928-5312-4f35-bb37-3b17947a61bf",
       "rows": [
        [
         "8499",
         "LIFE SIMPLI",
         "CHECKOUT"
        ],
        [
         "8500",
         "LIFE SIMPLI",
         "CLICK"
        ],
        [
         "194766",
         "PLS NEW LOAN",
         "CHECKOUT"
        ],
        [
         "194768",
         "PLS NEW LOAN",
         "CLICK"
        ]
       ],
       "shape": {
        "columns": 2,
        "rows": 4
       }
      },
      "text/html": [
       "<div>\n",
       "<style scoped>\n",
       "    .dataframe tbody tr th:only-of-type {\n",
       "        vertical-align: middle;\n",
       "    }\n",
       "\n",
       "    .dataframe tbody tr th {\n",
       "        vertical-align: top;\n",
       "    }\n",
       "\n",
       "    .dataframe thead th {\n",
       "        text-align: right;\n",
       "    }\n",
       "</style>\n",
       "<table border=\"1\" class=\"dataframe\">\n",
       "  <thead>\n",
       "    <tr style=\"text-align: right;\">\n",
       "      <th></th>\n",
       "      <th>Previously Interacted Item</th>\n",
       "      <th>Interaction Type</th>\n",
       "    </tr>\n",
       "  </thead>\n",
       "  <tbody>\n",
       "    <tr>\n",
       "      <th>8499</th>\n",
       "      <td>LIFE SIMPLI</td>\n",
       "      <td>CHECKOUT</td>\n",
       "    </tr>\n",
       "    <tr>\n",
       "      <th>8500</th>\n",
       "      <td>LIFE SIMPLI</td>\n",
       "      <td>CLICK</td>\n",
       "    </tr>\n",
       "    <tr>\n",
       "      <th>194766</th>\n",
       "      <td>PLS NEW LOAN</td>\n",
       "      <td>CHECKOUT</td>\n",
       "    </tr>\n",
       "    <tr>\n",
       "      <th>194768</th>\n",
       "      <td>PLS NEW LOAN</td>\n",
       "      <td>CLICK</td>\n",
       "    </tr>\n",
       "  </tbody>\n",
       "</table>\n",
       "</div>"
      ],
      "text/plain": [
       "       Previously Interacted Item Interaction Type\n",
       "8499                  LIFE SIMPLI         CHECKOUT\n",
       "8500                  LIFE SIMPLI            CLICK\n",
       "194766               PLS NEW LOAN         CHECKOUT\n",
       "194768               PLS NEW LOAN            CLICK"
      ]
     },
     "metadata": {},
     "output_type": "display_data"
    },
    {
     "data": {
      "application/vnd.microsoft.datawrangler.viewer.v0+json": {
       "columns": [
        {
         "name": "index",
         "rawType": "int64",
         "type": "integer"
        },
        {
         "name": "Rank",
         "rawType": "int64",
         "type": "integer"
        },
        {
         "name": "Item",
         "rawType": "object",
         "type": "string"
        },
        {
         "name": "Confidence Score",
         "rawType": "float64",
         "type": "float"
        }
       ],
       "ref": "3921f72e-1780-4dab-9f8f-0244551c6e00",
       "rows": [
        [
         "0",
         "1",
         "PLS NEW LOAN",
         "1.0544911623001099"
        ],
        [
         "1",
         "2",
         "GOOGLE WALLET",
         "0.9502004981040955"
        ],
        [
         "2",
         "3",
         "DDA TEMP LOANS BATCH",
         "0.8828725218772888"
        ],
        [
         "3",
         "4",
         "INCREASE FUNERAL COVER",
         "0.7694867849349976"
        ],
        [
         "4",
         "5",
         "MONEY MAXIMISER",
         "0.764065682888031"
        ],
        [
         "5",
         "6",
         "SMART SPEND",
         "0.7060142159461975"
        ],
        [
         "6",
         "7",
         "LOTTO - OFFER",
         "0.6789888143539429"
        ],
        [
         "7",
         "8",
         "FRIENDLY MESSAGE KYC",
         "0.6641636490821838"
        ],
        [
         "8",
         "9",
         "DEBT PROTECTION PLAN",
         "0.6639031171798706"
        ],
        [
         "9",
         "10",
         "EBUCKS GAMES",
         "0.6635900139808655"
        ]
       ],
       "shape": {
        "columns": 3,
        "rows": 10
       }
      },
      "text/html": [
       "<div>\n",
       "<style scoped>\n",
       "    .dataframe tbody tr th:only-of-type {\n",
       "        vertical-align: middle;\n",
       "    }\n",
       "\n",
       "    .dataframe tbody tr th {\n",
       "        vertical-align: top;\n",
       "    }\n",
       "\n",
       "    .dataframe thead th {\n",
       "        text-align: right;\n",
       "    }\n",
       "</style>\n",
       "<table border=\"1\" class=\"dataframe\">\n",
       "  <thead>\n",
       "    <tr style=\"text-align: right;\">\n",
       "      <th></th>\n",
       "      <th>Rank</th>\n",
       "      <th>Item</th>\n",
       "      <th>Confidence Score</th>\n",
       "    </tr>\n",
       "  </thead>\n",
       "  <tbody>\n",
       "    <tr>\n",
       "      <th>0</th>\n",
       "      <td>1</td>\n",
       "      <td>PLS NEW LOAN</td>\n",
       "      <td>1.054491</td>\n",
       "    </tr>\n",
       "    <tr>\n",
       "      <th>1</th>\n",
       "      <td>2</td>\n",
       "      <td>GOOGLE WALLET</td>\n",
       "      <td>0.950200</td>\n",
       "    </tr>\n",
       "    <tr>\n",
       "      <th>2</th>\n",
       "      <td>3</td>\n",
       "      <td>DDA TEMP LOANS BATCH</td>\n",
       "      <td>0.882873</td>\n",
       "    </tr>\n",
       "    <tr>\n",
       "      <th>3</th>\n",
       "      <td>4</td>\n",
       "      <td>INCREASE FUNERAL COVER</td>\n",
       "      <td>0.769487</td>\n",
       "    </tr>\n",
       "    <tr>\n",
       "      <th>4</th>\n",
       "      <td>5</td>\n",
       "      <td>MONEY MAXIMISER</td>\n",
       "      <td>0.764066</td>\n",
       "    </tr>\n",
       "    <tr>\n",
       "      <th>5</th>\n",
       "      <td>6</td>\n",
       "      <td>SMART SPEND</td>\n",
       "      <td>0.706014</td>\n",
       "    </tr>\n",
       "    <tr>\n",
       "      <th>6</th>\n",
       "      <td>7</td>\n",
       "      <td>LOTTO - OFFER</td>\n",
       "      <td>0.678989</td>\n",
       "    </tr>\n",
       "    <tr>\n",
       "      <th>7</th>\n",
       "      <td>8</td>\n",
       "      <td>FRIENDLY MESSAGE KYC</td>\n",
       "      <td>0.664164</td>\n",
       "    </tr>\n",
       "    <tr>\n",
       "      <th>8</th>\n",
       "      <td>9</td>\n",
       "      <td>DEBT PROTECTION PLAN</td>\n",
       "      <td>0.663903</td>\n",
       "    </tr>\n",
       "    <tr>\n",
       "      <th>9</th>\n",
       "      <td>10</td>\n",
       "      <td>EBUCKS GAMES</td>\n",
       "      <td>0.663590</td>\n",
       "    </tr>\n",
       "  </tbody>\n",
       "</table>\n",
       "</div>"
      ],
      "text/plain": [
       "   Rank                    Item  Confidence Score\n",
       "0     1            PLS NEW LOAN          1.054491\n",
       "1     2           GOOGLE WALLET          0.950200\n",
       "2     3    DDA TEMP LOANS BATCH          0.882873\n",
       "3     4  INCREASE FUNERAL COVER          0.769487\n",
       "4     5         MONEY MAXIMISER          0.764066\n",
       "5     6             SMART SPEND          0.706014\n",
       "6     7           LOTTO - OFFER          0.678989\n",
       "7     8    FRIENDLY MESSAGE KYC          0.664164\n",
       "8     9    DEBT PROTECTION PLAN          0.663903\n",
       "9    10            EBUCKS GAMES          0.663590"
      ]
     },
     "metadata": {},
     "output_type": "display_data"
    },
    {
     "data": {
      "application/vnd.microsoft.datawrangler.viewer.v0+json": {
       "columns": [
        {
         "name": "index",
         "rawType": "int64",
         "type": "integer"
        },
        {
         "name": "Previously Interacted Item",
         "rawType": "object",
         "type": "string"
        },
        {
         "name": "Interaction Type",
         "rawType": "object",
         "type": "string"
        }
       ],
       "ref": "4b0b7374-9f36-40be-b5c6-33f1db282ff4",
       "rows": [
        [
         "65626",
         "EBUCKS  EARN MORE",
         "CLICK"
        ],
        [
         "65627",
         "EBUCKS  EARN MORE",
         "CHECKOUT"
        ],
        [
         "99732",
         "MONEY COACH",
         "CLICK"
        ],
        [
         "99733",
         "MONEY COACH",
         "CHECKOUT"
        ]
       ],
       "shape": {
        "columns": 2,
        "rows": 4
       }
      },
      "text/html": [
       "<div>\n",
       "<style scoped>\n",
       "    .dataframe tbody tr th:only-of-type {\n",
       "        vertical-align: middle;\n",
       "    }\n",
       "\n",
       "    .dataframe tbody tr th {\n",
       "        vertical-align: top;\n",
       "    }\n",
       "\n",
       "    .dataframe thead th {\n",
       "        text-align: right;\n",
       "    }\n",
       "</style>\n",
       "<table border=\"1\" class=\"dataframe\">\n",
       "  <thead>\n",
       "    <tr style=\"text-align: right;\">\n",
       "      <th></th>\n",
       "      <th>Previously Interacted Item</th>\n",
       "      <th>Interaction Type</th>\n",
       "    </tr>\n",
       "  </thead>\n",
       "  <tbody>\n",
       "    <tr>\n",
       "      <th>65626</th>\n",
       "      <td>EBUCKS  EARN MORE</td>\n",
       "      <td>CLICK</td>\n",
       "    </tr>\n",
       "    <tr>\n",
       "      <th>65627</th>\n",
       "      <td>EBUCKS  EARN MORE</td>\n",
       "      <td>CHECKOUT</td>\n",
       "    </tr>\n",
       "    <tr>\n",
       "      <th>99732</th>\n",
       "      <td>MONEY COACH</td>\n",
       "      <td>CLICK</td>\n",
       "    </tr>\n",
       "    <tr>\n",
       "      <th>99733</th>\n",
       "      <td>MONEY COACH</td>\n",
       "      <td>CHECKOUT</td>\n",
       "    </tr>\n",
       "  </tbody>\n",
       "</table>\n",
       "</div>"
      ],
      "text/plain": [
       "      Previously Interacted Item Interaction Type\n",
       "65626          EBUCKS  EARN MORE            CLICK\n",
       "65627          EBUCKS  EARN MORE         CHECKOUT\n",
       "99732                MONEY COACH            CLICK\n",
       "99733                MONEY COACH         CHECKOUT"
      ]
     },
     "metadata": {},
     "output_type": "display_data"
    },
    {
     "data": {
      "application/vnd.microsoft.datawrangler.viewer.v0+json": {
       "columns": [
        {
         "name": "index",
         "rawType": "int64",
         "type": "integer"
        },
        {
         "name": "Rank",
         "rawType": "int64",
         "type": "integer"
        },
        {
         "name": "Item",
         "rawType": "object",
         "type": "string"
        },
        {
         "name": "Confidence Score",
         "rawType": "float64",
         "type": "float"
        }
       ],
       "ref": "f418a662-130e-4032-99cc-70833145df51",
       "rows": [
        [
         "0",
         "1",
         "FUNERAL COVER",
         "0.948482871055603"
        ],
        [
         "1",
         "2",
         "PREPAID AIRTIME - OFFER",
         "0.8087783455848694"
        ],
        [
         "2",
         "3",
         "FUSION LIMIT INCREASE",
         "0.7437126636505127"
        ],
        [
         "3",
         "4",
         "CONNECT VOUCHERS",
         "0.618151843547821"
        ],
        [
         "4",
         "5",
         "SMART DEVICE OFFER",
         "0.6135072708129883"
        ],
        [
         "5",
         "6",
         "HOMELOANS GENERIC MESSAGE",
         "0.6114571690559387"
        ],
        [
         "6",
         "7",
         "EBUCKS  QUALIFY",
         "0.5921005010604858"
        ],
        [
         "7",
         "8",
         "EBUCKS GUARD ME",
         "0.5802921652793884"
        ],
        [
         "8",
         "9",
         "CAR INSURANCE QUOTE",
         "0.5697665214538574"
        ],
        [
         "9",
         "10",
         "GLOBAL ACCOUNTS ACQUISITI",
         "0.5666519999504089"
        ]
       ],
       "shape": {
        "columns": 3,
        "rows": 10
       }
      },
      "text/html": [
       "<div>\n",
       "<style scoped>\n",
       "    .dataframe tbody tr th:only-of-type {\n",
       "        vertical-align: middle;\n",
       "    }\n",
       "\n",
       "    .dataframe tbody tr th {\n",
       "        vertical-align: top;\n",
       "    }\n",
       "\n",
       "    .dataframe thead th {\n",
       "        text-align: right;\n",
       "    }\n",
       "</style>\n",
       "<table border=\"1\" class=\"dataframe\">\n",
       "  <thead>\n",
       "    <tr style=\"text-align: right;\">\n",
       "      <th></th>\n",
       "      <th>Rank</th>\n",
       "      <th>Item</th>\n",
       "      <th>Confidence Score</th>\n",
       "    </tr>\n",
       "  </thead>\n",
       "  <tbody>\n",
       "    <tr>\n",
       "      <th>0</th>\n",
       "      <td>1</td>\n",
       "      <td>FUNERAL COVER</td>\n",
       "      <td>0.948483</td>\n",
       "    </tr>\n",
       "    <tr>\n",
       "      <th>1</th>\n",
       "      <td>2</td>\n",
       "      <td>PREPAID AIRTIME - OFFER</td>\n",
       "      <td>0.808778</td>\n",
       "    </tr>\n",
       "    <tr>\n",
       "      <th>2</th>\n",
       "      <td>3</td>\n",
       "      <td>FUSION LIMIT INCREASE</td>\n",
       "      <td>0.743713</td>\n",
       "    </tr>\n",
       "    <tr>\n",
       "      <th>3</th>\n",
       "      <td>4</td>\n",
       "      <td>CONNECT VOUCHERS</td>\n",
       "      <td>0.618152</td>\n",
       "    </tr>\n",
       "    <tr>\n",
       "      <th>4</th>\n",
       "      <td>5</td>\n",
       "      <td>SMART DEVICE OFFER</td>\n",
       "      <td>0.613507</td>\n",
       "    </tr>\n",
       "    <tr>\n",
       "      <th>5</th>\n",
       "      <td>6</td>\n",
       "      <td>HOMELOANS GENERIC MESSAGE</td>\n",
       "      <td>0.611457</td>\n",
       "    </tr>\n",
       "    <tr>\n",
       "      <th>6</th>\n",
       "      <td>7</td>\n",
       "      <td>EBUCKS  QUALIFY</td>\n",
       "      <td>0.592101</td>\n",
       "    </tr>\n",
       "    <tr>\n",
       "      <th>7</th>\n",
       "      <td>8</td>\n",
       "      <td>EBUCKS GUARD ME</td>\n",
       "      <td>0.580292</td>\n",
       "    </tr>\n",
       "    <tr>\n",
       "      <th>8</th>\n",
       "      <td>9</td>\n",
       "      <td>CAR INSURANCE QUOTE</td>\n",
       "      <td>0.569767</td>\n",
       "    </tr>\n",
       "    <tr>\n",
       "      <th>9</th>\n",
       "      <td>10</td>\n",
       "      <td>GLOBAL ACCOUNTS ACQUISITI</td>\n",
       "      <td>0.566652</td>\n",
       "    </tr>\n",
       "  </tbody>\n",
       "</table>\n",
       "</div>"
      ],
      "text/plain": [
       "   Rank                       Item  Confidence Score\n",
       "0     1              FUNERAL COVER          0.948483\n",
       "1     2    PREPAID AIRTIME - OFFER          0.808778\n",
       "2     3      FUSION LIMIT INCREASE          0.743713\n",
       "3     4           CONNECT VOUCHERS          0.618152\n",
       "4     5         SMART DEVICE OFFER          0.613507\n",
       "5     6  HOMELOANS GENERIC MESSAGE          0.611457\n",
       "6     7            EBUCKS  QUALIFY          0.592101\n",
       "7     8            EBUCKS GUARD ME          0.580292\n",
       "8     9        CAR INSURANCE QUOTE          0.569767\n",
       "9    10  GLOBAL ACCOUNTS ACQUISITI          0.566652"
      ]
     },
     "metadata": {},
     "output_type": "display_data"
    }
   ],
   "source": [
    "user_interactions = df.groupby('id').agg({\n",
    "    'interaction': 'count',\n",
    "    'item': 'nunique',\n",
    "    'segment': 'first',\n",
    "    'beh_segment': 'first',\n",
    "    'active_ind': 'first'\n",
    "}).reset_index()\n",
    "\n",
    "active_users = user_interactions[\n",
    "    (user_interactions['interaction'] >= 5) & \n",
    "    (user_interactions['segment'].notna())\n",
    "]\n",
    "\n",
    "print(f\"Found {len(active_users)} active users across {active_users['segment'].nunique()} segments\")\n",
    "\n",
    "segment_users = {}\n",
    "for segment in sorted(active_users['segment'].unique()):\n",
    "    segment_users[segment] = active_users[active_users['segment'] == segment].iloc[0]['id']\n",
    "\n",
    "segment_results = []\n",
    "for segment, user_id in list(segment_users.items())[:3]:  \n",
    "    user_profile = active_users[active_users['id'] == user_id].iloc[0]\n",
    "    user_data = df[df['id'] == user_id].iloc[-1].to_dict()\n",
    "    prev_items = df[df['id'] == user_id].sort_values(['month', 'day'])[['item', 'item_descrip', 'interaction']]\n",
    "    prev_items_df = prev_items.drop_duplicates(['item', 'interaction'])[['item_descrip', 'interaction']]\n",
    "    prev_items_df = prev_items_df.rename(columns={'item_descrip': 'Previously Interacted Item', 'interaction': 'Interaction Type'})\n",
    "    prev_items_df['Interaction Type'] = prev_items_df['Interaction Type'].map({0: 'CLICK', 1: 'CHECKOUT'})\n",
    "    recommended_items, scores = get_recommendations_for_user(user_id, user_data)\n",
    "    recs = []\n",
    "    for idx, (item_idx, score) in enumerate(zip(recommended_items[:10], scores[:10]), 1):\n",
    "        item_id = item_id_lookup.get_vocabulary()[item_idx]\n",
    "        recs.append({\n",
    "            'Rank': idx,\n",
    "            'Item': item_mapping[item_id],\n",
    "            'Confidence Score': float(score)\n",
    "        })\n",
    "    segment_results.append({\n",
    "        'Segment': segment,\n",
    "        'User ID': user_id,\n",
    "        'Total Interactions': user_profile['interaction'],\n",
    "        'Unique Items Viewed': user_profile['item'],\n",
    "        'Behavioral Segment': user_profile['beh_segment'],\n",
    "        'Activity Status': 'Active' if user_profile['active_ind'] == 1 else 'Inactive',\n",
    "        'Previous Items': prev_items_df,\n",
    "        'Recommendations': recs\n",
    "    })\n",
    "\n",
    "summary_df = pd.DataFrame([\n",
    "    {\n",
    "        'Segment': r['Segment'],\n",
    "        'User ID': r['User ID'],\n",
    "        'Total Interactions': r['Total Interactions'],\n",
    "        'Unique Items Viewed': r['Unique Items Viewed'],\n",
    "        'Behavioral Segment': r['Behavioral Segment'],\n",
    "        'Activity Status': r['Activity Status']\n",
    "    }\n",
    "    for r in segment_results\n",
    "])\n",
    "\n",
    "from IPython.display import display\n",
    "display(summary_df)\n",
    "\n",
    "for r in segment_results:\n",
    "    display(r['Previous Items'])\n",
    "    recs_df = pd.DataFrame(r['Recommendations'])\n",
    "    display(recs_df)"
   ]
  }
 ],
 "metadata": {
  "accelerator": "GPU",
  "colab": {
   "gpuType": "T4",
   "provenance": []
  },
  "kernelspec": {
   "display_name": "Dataquest2025 (3.12.10)",
   "language": "python",
   "name": "python3"
  },
  "language_info": {
   "codemirror_mode": {
    "name": "ipython",
    "version": 3
   },
   "file_extension": ".py",
   "mimetype": "text/x-python",
   "name": "python",
   "nbconvert_exporter": "python",
   "pygments_lexer": "ipython3",
   "version": "3.12.10"
  }
 },
 "nbformat": 4,
 "nbformat_minor": 5
}
